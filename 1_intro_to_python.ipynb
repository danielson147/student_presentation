{
 "cells": [
  {
   "cell_type": "code",
   "execution_count": 2,
   "id": "7c61aca5",
   "metadata": {},
   "outputs": [
    {
     "data": {
      "text/plain": [
       "2"
      ]
     },
     "execution_count": 2,
     "metadata": {},
     "output_type": "execute_result"
    }
   ],
   "source": [
    "1 + 1"
   ]
  },
  {
   "cell_type": "code",
   "execution_count": 3,
   "id": "2a80fdd6",
   "metadata": {},
   "outputs": [
    {
     "data": {
      "text/plain": [
       "8"
      ]
     },
     "execution_count": 3,
     "metadata": {},
     "output_type": "execute_result"
    }
   ],
   "source": [
    "10 - 2"
   ]
  },
  {
   "cell_type": "code",
   "execution_count": 4,
   "id": "af63d116",
   "metadata": {},
   "outputs": [
    {
     "name": "stdout",
     "output_type": "stream",
     "text": [
      "Hello World\n"
     ]
    }
   ],
   "source": [
    "print(\"Hello World\")"
   ]
  },
  {
   "cell_type": "code",
   "execution_count": 5,
   "id": "bcbefdad",
   "metadata": {},
   "outputs": [
    {
     "name": "stdout",
     "output_type": "stream",
     "text": [
      "2\n"
     ]
    }
   ],
   "source": [
    "print(1 + 1)"
   ]
  },
  {
   "cell_type": "code",
   "execution_count": 7,
   "id": "e76897be",
   "metadata": {},
   "outputs": [
    {
     "name": "stdout",
     "output_type": "stream",
     "text": [
      "The result is  2\n"
     ]
    }
   ],
   "source": [
    "print(\"The result is \",(10 - 8))"
   ]
  },
  {
   "cell_type": "code",
   "execution_count": 39,
   "id": "16e74745",
   "metadata": {},
   "outputs": [
    {
     "name": "stdout",
     "output_type": "stream",
     "text": [
      "Your input are  2 , 3\n",
      "The result is  8\n"
     ]
    }
   ],
   "source": [
    "a=2\n",
    "b=3\n",
    "b==4\n",
    "\n",
    "answer = a ** b\n",
    "print(\"Your input are \", a, \",\", b)\n",
    "print(\"The result is \", answer)"
   ]
  },
  {
   "cell_type": "code",
   "execution_count": 37,
   "id": "791b0d05",
   "metadata": {},
   "outputs": [
    {
     "name": "stdout",
     "output_type": "stream",
     "text": [
      "True\n"
     ]
    }
   ],
   "source": [
    "print(5==5)"
   ]
  },
  {
   "cell_type": "code",
   "execution_count": 44,
   "id": "7de2d3f1",
   "metadata": {},
   "outputs": [
    {
     "name": "stdout",
     "output_type": "stream",
     "text": [
      "-3\n"
     ]
    }
   ],
   "source": [
    "a=1\n",
    "a-=4\n",
    "print(a)"
   ]
  },
  {
   "cell_type": "code",
   "execution_count": 53,
   "id": "44b893a5",
   "metadata": {},
   "outputs": [
    {
     "name": "stdout",
     "output_type": "stream",
     "text": [
      "False\n"
     ]
    }
   ],
   "source": [
    "# 8421\n",
    "# 1011\n",
    "# Example 1: Using NOT OR to check conditions\n",
    "x = 9\n",
    "y = 3\n",
    "\n",
    "# Check if either x is greater than 7 or y is less than 5, and then negate the result\n",
    "result = not(x > 7 or y < 5)\n",
    "\n",
    "print(result)  # This will print True because neither condition is met."
   ]
  },
  {
   "cell_type": "code",
   "execution_count": 2,
   "id": "211fb9c2",
   "metadata": {},
   "outputs": [
    {
     "name": "stdout",
     "output_type": "stream",
     "text": [
      "Original number (decimal): 13\n",
      "Original number (binary): 0b1101\n",
      "Shifted number (binary): 0b110100\n",
      "Shifted number (decimal): 52\n"
     ]
    }
   ],
   "source": [
    "# Left shift (<<) example\n",
    "\n",
    "# Original number in binary: 0b110 (In Python, '0b' prefix indicates a binary literal)\n",
    "original_number = 13  # Decimal representation of binary '110'\n",
    "#8 4 2 1\n",
    "#1101\n",
    "# Shift the binary representation of 'original_number' 2 positions to the left\n",
    "shifted_number = original_number << 2\n",
    "#110100\n",
    "#32 16 8 4 2 1\n",
    "#32+16+4 = 52\n",
    "# Print the results\n",
    "print(\"Original number (decimal):\", original_number)\n",
    "print(\"Original number (binary):\", bin(original_number))\n",
    "\n",
    "print(\"Shifted number (binary):\", bin(shifted_number))\n",
    "print(\"Shifted number (decimal):\", shifted_number)\n"
   ]
  },
  {
   "cell_type": "markdown",
   "id": "2862f84c",
   "metadata": {},
   "source": [
    "#### Explanation of code on << (Left Shift)\n",
    "#### Convert the given number to binary \n",
    "#### Add the number of zeros given in the operation . For instance, add 2 zeros for the example above\n",
    "#### Convert the resulting binary to decimal"
   ]
  },
  {
   "cell_type": "code",
   "execution_count": 69,
   "id": "d5967775",
   "metadata": {},
   "outputs": [
    {
     "name": "stdout",
     "output_type": "stream",
     "text": [
      "Original number (decimal): 10\n",
      "Original number (binary): 0b1010\n",
      "Shifted number (binary): 0b10100\n",
      "Shifted number (decimal): 20\n"
     ]
    }
   ],
   "source": [
    "# Left shift (<<) example\n",
    "\n",
    "# Original number in binary: 0b110 (In Python, '0b' prefix indicates a binary literal)\n",
    "original_number = 10  # Decimal representation of binary '110'\n",
    "\n",
    "# Shift the binary representation of 'original_number' 2 positions to the left\n",
    "shifted_number = original_number << 1\n",
    "\n",
    "# Print the results\n",
    "print(\"Original number (decimal):\", original_number)\n",
    "print(\"Original number (binary):\", bin(original_number))\n",
    "\n",
    "print(\"Shifted number (binary):\", bin(shifted_number))\n",
    "print(\"Shifted number (decimal):\", shifted_number)"
   ]
  },
  {
   "cell_type": "code",
   "execution_count": 70,
   "id": "24b0bbfa",
   "metadata": {},
   "outputs": [
    {
     "name": "stdout",
     "output_type": "stream",
     "text": [
      "Original number (decimal): 7\n",
      "Original number (binary): 0b111\n",
      "Shifted number (binary): 0b11100\n",
      "Shifted number (decimal): 28\n"
     ]
    }
   ],
   "source": [
    "# Left shift (<<) example\n",
    "\n",
    "# Original number in binary: 0b110 (In Python, '0b' prefix indicates a binary literal)\n",
    "original_number = 7  # Decimal representation of binary '110'\n",
    "\n",
    "# Shift the binary representation of 'original_number' 2 positions to the left\n",
    "shifted_number = original_number << 2\n",
    "# 011100\n",
    "# Print the results\n",
    "print(\"Original number (decimal):\", original_number)\n",
    "print(\"Original number (binary):\", bin(original_number))\n",
    "\n",
    "print(\"Shifted number (binary):\", bin(shifted_number))\n",
    "print(\"Shifted number (decimal):\", shifted_number)"
   ]
  },
  {
   "cell_type": "code",
   "execution_count": 5,
   "id": "9d3d433f",
   "metadata": {},
   "outputs": [
    {
     "name": "stdout",
     "output_type": "stream",
     "text": [
      "Original number (decimal): 14\n",
      "Original number (binary): 0b1110\n",
      "Shifted number (binary): 0b11\n",
      "Shifted number (decimal): 3\n"
     ]
    }
   ],
   "source": [
    "# Right shift (>>) example\n",
    "\n",
    "# Original number in binary: 0b110 (In Python, '0b' prefix indicates a binary literal)\n",
    "original_number = 14  # Decimal representation of binary '110'\n",
    "\n",
    "# Shift the binary representation of 'original_number' 2 positions to the left\n",
    "shifted_number = original_number >> 2\n",
    "#8 4 2 1\n",
    "#1110\n",
    "#11\n",
    "#8421\n",
    "#0011\n",
    "#3 decimal\n",
    "# Print the results\n",
    "print(\"Original number (decimal):\", original_number)\n",
    "print(\"Original number (binary):\", bin(original_number))\n",
    "\n",
    "print(\"Shifted number (binary):\", bin(shifted_number))\n",
    "print(\"Shifted number (decimal):\", shifted_number)"
   ]
  },
  {
   "cell_type": "code",
   "execution_count": null,
   "id": "644db23b",
   "metadata": {},
   "outputs": [],
   "source": []
  },
  {
   "cell_type": "code",
   "execution_count": null,
   "id": "603a5455",
   "metadata": {},
   "outputs": [],
   "source": [
    "# 6 24\n",
    "# 8 32\n",
    "# 10 40"
   ]
  },
  {
   "cell_type": "code",
   "execution_count": 58,
   "id": "816ff265",
   "metadata": {},
   "outputs": [
    {
     "name": "stdout",
     "output_type": "stream",
     "text": [
      "Name is  Olalekan Ayinde\n",
      "contact 07086975323\n",
      "email  olamilekan.ayinde@gmail.com\n"
     ]
    }
   ],
   "source": [
    "name = 'Olalekan Ayinde'\n",
    "contact = '07086975323'\n",
    "email = 'olamilekan.ayinde@gmail.com'\n",
    "print(\"Name is \", name)\n",
    "print(\"contact\", contact)\n",
    "print(\"email \", email)"
   ]
  },
  {
   "cell_type": "code",
   "execution_count": null,
   "id": "9babf22f",
   "metadata": {},
   "outputs": [],
   "source": []
  }
 ],
 "metadata": {
  "kernelspec": {
   "display_name": "Python 3 (ipykernel)",
   "language": "python",
   "name": "python3"
  },
  "language_info": {
   "codemirror_mode": {
    "name": "ipython",
    "version": 3
   },
   "file_extension": ".py",
   "mimetype": "text/x-python",
   "name": "python",
   "nbconvert_exporter": "python",
   "pygments_lexer": "ipython3",
   "version": "3.10.9"
  }
 },
 "nbformat": 4,
 "nbformat_minor": 5
}
