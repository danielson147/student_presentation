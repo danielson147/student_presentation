{
 "cells": [
  {
   "cell_type": "markdown",
   "metadata": {},
   "source": [
    "# Project: No Show Appointments Data Analysis\n",
    "\n",
    "## Table of Contents\n",
    "<ul>\n",
    "<li><a href=\"#intro\">Introduction</a></li>\n",
    "<li><a href=\"#wrangling\">Data Wrangling</a></li>\n",
    "<li><a href=\"#eda\">Exploratory Data Analysis</a></li>\n",
    "<li><a href=\"#conclusions\">Conclusions</a></li>\n",
    "<li><a href=\"#resources\">Resources</a></li>\n",
    "</ul>"
   ]
  },
  {
   "cell_type": "markdown",
   "metadata": {},
   "source": [
    "<a id='intro'></a>\n",
    "## Introduction\n",
    "\n",
    "> This dataset has information for 110,527 medical appointments in Brazil. It has 14 columns which are as follows:\n",
    ">\n",
    "1. PatientId: This is a unique identification number given to each patient.\n",
    "2. AppointmentID: This is also a unique identification number for every scheduled appointment.\n",
    "3. Gender: This column specifies the gender of the patient.\n",
    "4. ScheduledDay: This is the date on which the appointment was scheduled by the hospital.\n",
    "5. AppointmentDay: This is the date a patient is expected to visit the hospital.\n",
    "6. Age: This column indicates the age of the patient.\n",
    "7. Neighbourhood: This indicates the location of the hospital.\n",
    "8. Scholarship: This column indicates whether a patient is enrolled in Brasilian welfare program (Bolsa Familia) or not.\n",
    "9. Hipertension: This indicates whether the patient is hypertensive or not. This has '0' and '1' status. Where '0' is for patients that are not hypertensive and '1' is for patients that are hypertensive.\n",
    "10. Diabetes: This indicates whether the patient is diabetics or not. This has '0' and '1' status. Where '0' is for patients that are not diabetics and '1' is for patients that are diabetics.\n",
    "11. Alcoholism: This indicates whether the patient is an alcoholic or not. This has '0' and '1' status. Where '0' is for patients that are not alcoholic and '1' is for patients that are alcoholic.\n",
    "12. Handicap: This indicates whether the patient is physically challenge or not. it has numbers from '1' to '4'. '1' indicates that a patient has 1 physical challenge while '2', '3' and '4' indicates that the patient has 2, 3, 4 physically challenges respectively.\n",
    "13. SMS_received: This indicates whether an SMS message was sent out to the patient or not. it has '0' and '1' values, where '0' is for patients that did not receive SMS message and '1' is for those that received SMS messages.\n",
    "14. No-show: This column indicates whether a patient actually visited the hospital on the day of appointment or not. It has 'Yes' and 'No' values, where 'Yes' is for patients that did not show up for their appointments and 'No' is for patients that showed up for their appointments.\n",
    ">\n",
    "The purpose of this investigation is to analyse the dataset and come up with factors that could be responsible for patients not showing up for their appointments. This will help the hospitals to manage their staff in case patients did not show up as predicted. The dependent variable in the dataset is the No-show column because it depends on other variables, while the independent variables are Age, Scholarship, Hypertension, Diabetes, Handicap, Alcoholism and SMS_received. These independent variables could be responsible for the outcome of the dependent variable. Therefore, a patient showing up or not could depend on their age, gender, enrollment in Brasilian Welfare Program (Bolsa Familia), their health status (hypertensive, diabetics or handicap), their level of alcohol intake and wether he or she received SMS message, as a reminder, or not. \n",
    "> \n",
    "In this investigation, the following variables will be analysed to determine the factors we need to consider in order to know if a patient will show up for his or her appointment or not:\n",
    "<ol>\n",
    "<li> Dependent variable: No-show </li>\n",
    "<li> Independent variables: Age, Scholarship and SMS_received.</li>\n",
    "</ol>\n",
    "\n",
    "The following are questions to be considered in this investigation:\n",
    "<ol>\n",
    "<li> How many of the patients who showed up for their appointments are over 20 years?</li>\n",
    "<li> How many of the patients who showed up for their appointments are on Brasilian Welfare Program (Bolsa Familia)</li>\n",
    "<li> How many patients showed up after receiving a reminder in form of SMS messages?</li>\n",
    "</ol>\n"
   ]
  },
  {
   "cell_type": "code",
   "execution_count": 3,
   "metadata": {},
   "outputs": [],
   "source": [
    "# Use import statements to import all the libraries needed for the project\n",
    "import pandas as pd\n",
    "import numpy as np\n",
    "import seaborn as sns\n",
    "import matplotlib.pyplot as plt\n",
    "%matplotlib inline\n"
   ]
  },
  {
   "cell_type": "markdown",
   "metadata": {},
   "source": [
    "<a id='wrangling'></a>\n",
    "## Data Wrangling\n",
    "\n",
    "\n",
    "### General Properties"
   ]
  },
  {
   "cell_type": "markdown",
   "metadata": {},
   "source": [
    "In this section, the data will be loaded, few lines will be printed out. We will perform operations to inspect data types. We will also look for instances of missing or possibly errant data.\n"
   ]
  },
  {
   "cell_type": "code",
   "execution_count": 4,
   "metadata": {},
   "outputs": [],
   "source": [
    "# Read the dataset\n",
    "data = pd.read_csv('medical_appointments.csv')\n",
    "no_show_df = data.copy()"
   ]
  },
  {
   "cell_type": "markdown",
   "metadata": {},
   "source": [
    "Let's look at the general information about the dataset. This will give us the following:\n",
    "1. Number of columns in the dataset\n",
    "2. The total data entries\n",
    "3. The data type of each column"
   ]
  },
  {
   "cell_type": "code",
   "execution_count": 5,
   "metadata": {},
   "outputs": [
    {
     "name": "stdout",
     "output_type": "stream",
     "text": [
      "<class 'pandas.core.frame.DataFrame'>\n",
      "RangeIndex: 110527 entries, 0 to 110526\n",
      "Data columns (total 14 columns):\n",
      " #   Column          Non-Null Count   Dtype  \n",
      "---  ------          --------------   -----  \n",
      " 0   PatientId       110527 non-null  float64\n",
      " 1   AppointmentID   110527 non-null  int64  \n",
      " 2   Gender          110527 non-null  object \n",
      " 3   ScheduledDay    110527 non-null  object \n",
      " 4   AppointmentDay  110527 non-null  object \n",
      " 5   Age             110527 non-null  int64  \n",
      " 6   Neighbourhood   110527 non-null  object \n",
      " 7   Scholarship     110527 non-null  int64  \n",
      " 8   Hipertension    110527 non-null  int64  \n",
      " 9   Diabetes        110527 non-null  int64  \n",
      " 10  Alcoholism      110527 non-null  int64  \n",
      " 11  Handcap         110527 non-null  int64  \n",
      " 12  SMS_received    110527 non-null  int64  \n",
      " 13  No-show         110527 non-null  object \n",
      "dtypes: float64(1), int64(8), object(5)\n",
      "memory usage: 11.8+ MB\n"
     ]
    }
   ],
   "source": [
    "# This will return general information about the dataset.\n",
    "no_show_df.info()"
   ]
  },
  {
   "cell_type": "markdown",
   "metadata": {},
   "source": [
    "The dataset has 110,527 entries, 14 columns and no missing data.\n",
    "The data types of all the columns are also displayed. "
   ]
  },
  {
   "cell_type": "markdown",
   "metadata": {},
   "source": [
    "There is need to display the dataset. This is will help us to inspect \n",
    "the naming convention of the columns and identify those that need to be renamed.\n",
    "It will also help us to identify if there is need to change the data type or format of any column."
   ]
  },
  {
   "cell_type": "code",
   "execution_count": 6,
   "metadata": {
    "scrolled": true
   },
   "outputs": [
    {
     "data": {
      "text/html": [
       "<div>\n",
       "<style scoped>\n",
       "    .dataframe tbody tr th:only-of-type {\n",
       "        vertical-align: middle;\n",
       "    }\n",
       "\n",
       "    .dataframe tbody tr th {\n",
       "        vertical-align: top;\n",
       "    }\n",
       "\n",
       "    .dataframe thead th {\n",
       "        text-align: right;\n",
       "    }\n",
       "</style>\n",
       "<table border=\"1\" class=\"dataframe\">\n",
       "  <thead>\n",
       "    <tr style=\"text-align: right;\">\n",
       "      <th></th>\n",
       "      <th>PatientId</th>\n",
       "      <th>AppointmentID</th>\n",
       "      <th>Gender</th>\n",
       "      <th>ScheduledDay</th>\n",
       "      <th>AppointmentDay</th>\n",
       "      <th>Age</th>\n",
       "      <th>Neighbourhood</th>\n",
       "      <th>Scholarship</th>\n",
       "      <th>Hipertension</th>\n",
       "      <th>Diabetes</th>\n",
       "      <th>Alcoholism</th>\n",
       "      <th>Handcap</th>\n",
       "      <th>SMS_received</th>\n",
       "      <th>No-show</th>\n",
       "    </tr>\n",
       "  </thead>\n",
       "  <tbody>\n",
       "    <tr>\n",
       "      <th>0</th>\n",
       "      <td>2.987250e+13</td>\n",
       "      <td>5642903</td>\n",
       "      <td>F</td>\n",
       "      <td>2016-04-29T18:38:08Z</td>\n",
       "      <td>2016-04-29T00:00:00Z</td>\n",
       "      <td>62</td>\n",
       "      <td>JARDIM DA PENHA</td>\n",
       "      <td>0</td>\n",
       "      <td>1</td>\n",
       "      <td>0</td>\n",
       "      <td>0</td>\n",
       "      <td>0</td>\n",
       "      <td>0</td>\n",
       "      <td>No</td>\n",
       "    </tr>\n",
       "    <tr>\n",
       "      <th>1</th>\n",
       "      <td>5.589978e+14</td>\n",
       "      <td>5642503</td>\n",
       "      <td>M</td>\n",
       "      <td>2016-04-29T16:08:27Z</td>\n",
       "      <td>2016-04-29T00:00:00Z</td>\n",
       "      <td>56</td>\n",
       "      <td>JARDIM DA PENHA</td>\n",
       "      <td>0</td>\n",
       "      <td>0</td>\n",
       "      <td>0</td>\n",
       "      <td>0</td>\n",
       "      <td>0</td>\n",
       "      <td>0</td>\n",
       "      <td>No</td>\n",
       "    </tr>\n",
       "    <tr>\n",
       "      <th>2</th>\n",
       "      <td>4.262962e+12</td>\n",
       "      <td>5642549</td>\n",
       "      <td>F</td>\n",
       "      <td>2016-04-29T16:19:04Z</td>\n",
       "      <td>2016-04-29T00:00:00Z</td>\n",
       "      <td>62</td>\n",
       "      <td>MATA DA PRAIA</td>\n",
       "      <td>0</td>\n",
       "      <td>0</td>\n",
       "      <td>0</td>\n",
       "      <td>0</td>\n",
       "      <td>0</td>\n",
       "      <td>0</td>\n",
       "      <td>No</td>\n",
       "    </tr>\n",
       "    <tr>\n",
       "      <th>3</th>\n",
       "      <td>8.679512e+11</td>\n",
       "      <td>5642828</td>\n",
       "      <td>F</td>\n",
       "      <td>2016-04-29T17:29:31Z</td>\n",
       "      <td>2016-04-29T00:00:00Z</td>\n",
       "      <td>8</td>\n",
       "      <td>PONTAL DE CAMBURI</td>\n",
       "      <td>0</td>\n",
       "      <td>0</td>\n",
       "      <td>0</td>\n",
       "      <td>0</td>\n",
       "      <td>0</td>\n",
       "      <td>0</td>\n",
       "      <td>No</td>\n",
       "    </tr>\n",
       "    <tr>\n",
       "      <th>4</th>\n",
       "      <td>8.841186e+12</td>\n",
       "      <td>5642494</td>\n",
       "      <td>F</td>\n",
       "      <td>2016-04-29T16:07:23Z</td>\n",
       "      <td>2016-04-29T00:00:00Z</td>\n",
       "      <td>56</td>\n",
       "      <td>JARDIM DA PENHA</td>\n",
       "      <td>0</td>\n",
       "      <td>1</td>\n",
       "      <td>1</td>\n",
       "      <td>0</td>\n",
       "      <td>0</td>\n",
       "      <td>0</td>\n",
       "      <td>No</td>\n",
       "    </tr>\n",
       "  </tbody>\n",
       "</table>\n",
       "</div>"
      ],
      "text/plain": [
       "      PatientId  AppointmentID Gender          ScheduledDay  \\\n",
       "0  2.987250e+13        5642903      F  2016-04-29T18:38:08Z   \n",
       "1  5.589978e+14        5642503      M  2016-04-29T16:08:27Z   \n",
       "2  4.262962e+12        5642549      F  2016-04-29T16:19:04Z   \n",
       "3  8.679512e+11        5642828      F  2016-04-29T17:29:31Z   \n",
       "4  8.841186e+12        5642494      F  2016-04-29T16:07:23Z   \n",
       "\n",
       "         AppointmentDay  Age      Neighbourhood  Scholarship  Hipertension  \\\n",
       "0  2016-04-29T00:00:00Z   62    JARDIM DA PENHA            0             1   \n",
       "1  2016-04-29T00:00:00Z   56    JARDIM DA PENHA            0             0   \n",
       "2  2016-04-29T00:00:00Z   62      MATA DA PRAIA            0             0   \n",
       "3  2016-04-29T00:00:00Z    8  PONTAL DE CAMBURI            0             0   \n",
       "4  2016-04-29T00:00:00Z   56    JARDIM DA PENHA            0             1   \n",
       "\n",
       "   Diabetes  Alcoholism  Handcap  SMS_received No-show  \n",
       "0         0           0        0             0      No  \n",
       "1         0           0        0             0      No  \n",
       "2         0           0        0             0      No  \n",
       "3         0           0        0             0      No  \n",
       "4         1           0        0             0      No  "
      ]
     },
     "execution_count": 6,
     "metadata": {},
     "output_type": "execute_result"
    }
   ],
   "source": [
    "# This section displays the first few rows of the dataset.\n",
    "no_show_df.head()"
   ]
  },
  {
   "cell_type": "markdown",
   "metadata": {},
   "source": [
    "Observations: The following are observed in the above output;\n",
    "    1. There is need to rename the columns for the sake of consistency\n",
    "    2. The datetime on ScheduledDay and AppointmentDay are in string rather than datetime format"
   ]
  },
  {
   "cell_type": "code",
   "execution_count": 7,
   "metadata": {},
   "outputs": [
    {
     "data": {
      "text/html": [
       "<div>\n",
       "<style scoped>\n",
       "    .dataframe tbody tr th:only-of-type {\n",
       "        vertical-align: middle;\n",
       "    }\n",
       "\n",
       "    .dataframe tbody tr th {\n",
       "        vertical-align: top;\n",
       "    }\n",
       "\n",
       "    .dataframe thead th {\n",
       "        text-align: right;\n",
       "    }\n",
       "</style>\n",
       "<table border=\"1\" class=\"dataframe\">\n",
       "  <thead>\n",
       "    <tr style=\"text-align: right;\">\n",
       "      <th></th>\n",
       "      <th>PatientId</th>\n",
       "      <th>AppointmentID</th>\n",
       "      <th>Age</th>\n",
       "      <th>Scholarship</th>\n",
       "      <th>Hipertension</th>\n",
       "      <th>Diabetes</th>\n",
       "      <th>Alcoholism</th>\n",
       "      <th>Handcap</th>\n",
       "      <th>SMS_received</th>\n",
       "    </tr>\n",
       "  </thead>\n",
       "  <tbody>\n",
       "    <tr>\n",
       "      <th>count</th>\n",
       "      <td>1.105270e+05</td>\n",
       "      <td>1.105270e+05</td>\n",
       "      <td>110527.000000</td>\n",
       "      <td>110527.000000</td>\n",
       "      <td>110527.000000</td>\n",
       "      <td>110527.000000</td>\n",
       "      <td>110527.000000</td>\n",
       "      <td>110527.000000</td>\n",
       "      <td>110527.000000</td>\n",
       "    </tr>\n",
       "    <tr>\n",
       "      <th>mean</th>\n",
       "      <td>1.474963e+14</td>\n",
       "      <td>5.675305e+06</td>\n",
       "      <td>37.088874</td>\n",
       "      <td>0.098266</td>\n",
       "      <td>0.197246</td>\n",
       "      <td>0.071865</td>\n",
       "      <td>0.030400</td>\n",
       "      <td>0.022248</td>\n",
       "      <td>0.321026</td>\n",
       "    </tr>\n",
       "    <tr>\n",
       "      <th>std</th>\n",
       "      <td>2.560949e+14</td>\n",
       "      <td>7.129575e+04</td>\n",
       "      <td>23.110205</td>\n",
       "      <td>0.297675</td>\n",
       "      <td>0.397921</td>\n",
       "      <td>0.258265</td>\n",
       "      <td>0.171686</td>\n",
       "      <td>0.161543</td>\n",
       "      <td>0.466873</td>\n",
       "    </tr>\n",
       "    <tr>\n",
       "      <th>min</th>\n",
       "      <td>3.921784e+04</td>\n",
       "      <td>5.030230e+06</td>\n",
       "      <td>-1.000000</td>\n",
       "      <td>0.000000</td>\n",
       "      <td>0.000000</td>\n",
       "      <td>0.000000</td>\n",
       "      <td>0.000000</td>\n",
       "      <td>0.000000</td>\n",
       "      <td>0.000000</td>\n",
       "    </tr>\n",
       "    <tr>\n",
       "      <th>25%</th>\n",
       "      <td>4.172614e+12</td>\n",
       "      <td>5.640286e+06</td>\n",
       "      <td>18.000000</td>\n",
       "      <td>0.000000</td>\n",
       "      <td>0.000000</td>\n",
       "      <td>0.000000</td>\n",
       "      <td>0.000000</td>\n",
       "      <td>0.000000</td>\n",
       "      <td>0.000000</td>\n",
       "    </tr>\n",
       "    <tr>\n",
       "      <th>50%</th>\n",
       "      <td>3.173184e+13</td>\n",
       "      <td>5.680573e+06</td>\n",
       "      <td>37.000000</td>\n",
       "      <td>0.000000</td>\n",
       "      <td>0.000000</td>\n",
       "      <td>0.000000</td>\n",
       "      <td>0.000000</td>\n",
       "      <td>0.000000</td>\n",
       "      <td>0.000000</td>\n",
       "    </tr>\n",
       "    <tr>\n",
       "      <th>75%</th>\n",
       "      <td>9.439172e+13</td>\n",
       "      <td>5.725524e+06</td>\n",
       "      <td>55.000000</td>\n",
       "      <td>0.000000</td>\n",
       "      <td>0.000000</td>\n",
       "      <td>0.000000</td>\n",
       "      <td>0.000000</td>\n",
       "      <td>0.000000</td>\n",
       "      <td>1.000000</td>\n",
       "    </tr>\n",
       "    <tr>\n",
       "      <th>max</th>\n",
       "      <td>9.999816e+14</td>\n",
       "      <td>5.790484e+06</td>\n",
       "      <td>115.000000</td>\n",
       "      <td>1.000000</td>\n",
       "      <td>1.000000</td>\n",
       "      <td>1.000000</td>\n",
       "      <td>1.000000</td>\n",
       "      <td>4.000000</td>\n",
       "      <td>1.000000</td>\n",
       "    </tr>\n",
       "  </tbody>\n",
       "</table>\n",
       "</div>"
      ],
      "text/plain": [
       "          PatientId  AppointmentID            Age    Scholarship  \\\n",
       "count  1.105270e+05   1.105270e+05  110527.000000  110527.000000   \n",
       "mean   1.474963e+14   5.675305e+06      37.088874       0.098266   \n",
       "std    2.560949e+14   7.129575e+04      23.110205       0.297675   \n",
       "min    3.921784e+04   5.030230e+06      -1.000000       0.000000   \n",
       "25%    4.172614e+12   5.640286e+06      18.000000       0.000000   \n",
       "50%    3.173184e+13   5.680573e+06      37.000000       0.000000   \n",
       "75%    9.439172e+13   5.725524e+06      55.000000       0.000000   \n",
       "max    9.999816e+14   5.790484e+06     115.000000       1.000000   \n",
       "\n",
       "        Hipertension       Diabetes     Alcoholism        Handcap  \\\n",
       "count  110527.000000  110527.000000  110527.000000  110527.000000   \n",
       "mean        0.197246       0.071865       0.030400       0.022248   \n",
       "std         0.397921       0.258265       0.171686       0.161543   \n",
       "min         0.000000       0.000000       0.000000       0.000000   \n",
       "25%         0.000000       0.000000       0.000000       0.000000   \n",
       "50%         0.000000       0.000000       0.000000       0.000000   \n",
       "75%         0.000000       0.000000       0.000000       0.000000   \n",
       "max         1.000000       1.000000       1.000000       4.000000   \n",
       "\n",
       "        SMS_received  \n",
       "count  110527.000000  \n",
       "mean        0.321026  \n",
       "std         0.466873  \n",
       "min         0.000000  \n",
       "25%         0.000000  \n",
       "50%         0.000000  \n",
       "75%         1.000000  \n",
       "max         1.000000  "
      ]
     },
     "execution_count": 7,
     "metadata": {},
     "output_type": "execute_result"
    }
   ],
   "source": [
    "# There is need to describe the attributes of the dataset, using describe(). \n",
    "# Such attribute include count, mean, standard deviation, minimum value, maximum value, 25%, 50% and 75% percentile\n",
    "\n",
    "no_show_df.describe()"
   ]
  },
  {
   "cell_type": "markdown",
   "metadata": {},
   "source": [
    "Observations: The following were observed from the above output;\n",
    "1. The minimum value for age is -1. This is not acceptable as age cannot be counted in negative. \n",
    "2. The maximum value for age is 115, this can be allowed because there may be one or two persons above the life expectancy in a country\n",
    "3. The number entries (110,527) was uniform across board indicating that there were no missing data.\n",
    "4. The maximum value under the column handicap is 4. \n",
    "5. Age should be in integer and not float."
   ]
  },
  {
   "cell_type": "markdown",
   "metadata": {},
   "source": [
    "\n",
    "### Data Cleaning: In this section, we will proceed to clean the data by addressing all the issues raised in our observations above "
   ]
  },
  {
   "cell_type": "code",
   "execution_count": 8,
   "metadata": {},
   "outputs": [],
   "source": [
    "# After discussing the structure of the data and any problems that need to be\n",
    "# cleaned, perform those cleaning steps in the second part of this section.\n",
    "no_show_df = no_show_df.rename(columns={'PatientId':'patient_id','AppointmentID':'appointment_id',\n",
    "                                       'Gender':'gender', 'ScheduledDay':'scheduled_day',\n",
    "                                       'AppointmentDay':'appointment_day', 'Age':'age', \n",
    "                                       'Neighbourhood':'neighbourhood', 'Scholarship':'scholarship',\n",
    "                                       'Hipertension':'hypertension', 'Diabetes':'diabetes',\n",
    "                                       'Alcoholism':'alcoholism', 'Handcap':'handicap',\n",
    "                                       'SMS_received':'sms_received', 'No-show':'no_show'})"
   ]
  },
  {
   "cell_type": "code",
   "execution_count": 9,
   "metadata": {},
   "outputs": [
    {
     "data": {
      "text/html": [
       "<div>\n",
       "<style scoped>\n",
       "    .dataframe tbody tr th:only-of-type {\n",
       "        vertical-align: middle;\n",
       "    }\n",
       "\n",
       "    .dataframe tbody tr th {\n",
       "        vertical-align: top;\n",
       "    }\n",
       "\n",
       "    .dataframe thead th {\n",
       "        text-align: right;\n",
       "    }\n",
       "</style>\n",
       "<table border=\"1\" class=\"dataframe\">\n",
       "  <thead>\n",
       "    <tr style=\"text-align: right;\">\n",
       "      <th></th>\n",
       "      <th>patient_id</th>\n",
       "      <th>appointment_id</th>\n",
       "      <th>gender</th>\n",
       "      <th>scheduled_day</th>\n",
       "      <th>appointment_day</th>\n",
       "      <th>age</th>\n",
       "      <th>neighbourhood</th>\n",
       "      <th>scholarship</th>\n",
       "      <th>hypertension</th>\n",
       "      <th>diabetes</th>\n",
       "      <th>alcoholism</th>\n",
       "      <th>handicap</th>\n",
       "      <th>sms_received</th>\n",
       "      <th>no_show</th>\n",
       "    </tr>\n",
       "  </thead>\n",
       "  <tbody>\n",
       "    <tr>\n",
       "      <th>0</th>\n",
       "      <td>2.987250e+13</td>\n",
       "      <td>5642903</td>\n",
       "      <td>F</td>\n",
       "      <td>2016-04-29T18:38:08Z</td>\n",
       "      <td>2016-04-29T00:00:00Z</td>\n",
       "      <td>62</td>\n",
       "      <td>JARDIM DA PENHA</td>\n",
       "      <td>0</td>\n",
       "      <td>1</td>\n",
       "      <td>0</td>\n",
       "      <td>0</td>\n",
       "      <td>0</td>\n",
       "      <td>0</td>\n",
       "      <td>No</td>\n",
       "    </tr>\n",
       "    <tr>\n",
       "      <th>1</th>\n",
       "      <td>5.589978e+14</td>\n",
       "      <td>5642503</td>\n",
       "      <td>M</td>\n",
       "      <td>2016-04-29T16:08:27Z</td>\n",
       "      <td>2016-04-29T00:00:00Z</td>\n",
       "      <td>56</td>\n",
       "      <td>JARDIM DA PENHA</td>\n",
       "      <td>0</td>\n",
       "      <td>0</td>\n",
       "      <td>0</td>\n",
       "      <td>0</td>\n",
       "      <td>0</td>\n",
       "      <td>0</td>\n",
       "      <td>No</td>\n",
       "    </tr>\n",
       "    <tr>\n",
       "      <th>2</th>\n",
       "      <td>4.262962e+12</td>\n",
       "      <td>5642549</td>\n",
       "      <td>F</td>\n",
       "      <td>2016-04-29T16:19:04Z</td>\n",
       "      <td>2016-04-29T00:00:00Z</td>\n",
       "      <td>62</td>\n",
       "      <td>MATA DA PRAIA</td>\n",
       "      <td>0</td>\n",
       "      <td>0</td>\n",
       "      <td>0</td>\n",
       "      <td>0</td>\n",
       "      <td>0</td>\n",
       "      <td>0</td>\n",
       "      <td>No</td>\n",
       "    </tr>\n",
       "    <tr>\n",
       "      <th>3</th>\n",
       "      <td>8.679512e+11</td>\n",
       "      <td>5642828</td>\n",
       "      <td>F</td>\n",
       "      <td>2016-04-29T17:29:31Z</td>\n",
       "      <td>2016-04-29T00:00:00Z</td>\n",
       "      <td>8</td>\n",
       "      <td>PONTAL DE CAMBURI</td>\n",
       "      <td>0</td>\n",
       "      <td>0</td>\n",
       "      <td>0</td>\n",
       "      <td>0</td>\n",
       "      <td>0</td>\n",
       "      <td>0</td>\n",
       "      <td>No</td>\n",
       "    </tr>\n",
       "    <tr>\n",
       "      <th>4</th>\n",
       "      <td>8.841186e+12</td>\n",
       "      <td>5642494</td>\n",
       "      <td>F</td>\n",
       "      <td>2016-04-29T16:07:23Z</td>\n",
       "      <td>2016-04-29T00:00:00Z</td>\n",
       "      <td>56</td>\n",
       "      <td>JARDIM DA PENHA</td>\n",
       "      <td>0</td>\n",
       "      <td>1</td>\n",
       "      <td>1</td>\n",
       "      <td>0</td>\n",
       "      <td>0</td>\n",
       "      <td>0</td>\n",
       "      <td>No</td>\n",
       "    </tr>\n",
       "  </tbody>\n",
       "</table>\n",
       "</div>"
      ],
      "text/plain": [
       "     patient_id  appointment_id gender         scheduled_day  \\\n",
       "0  2.987250e+13         5642903      F  2016-04-29T18:38:08Z   \n",
       "1  5.589978e+14         5642503      M  2016-04-29T16:08:27Z   \n",
       "2  4.262962e+12         5642549      F  2016-04-29T16:19:04Z   \n",
       "3  8.679512e+11         5642828      F  2016-04-29T17:29:31Z   \n",
       "4  8.841186e+12         5642494      F  2016-04-29T16:07:23Z   \n",
       "\n",
       "        appointment_day  age      neighbourhood  scholarship  hypertension  \\\n",
       "0  2016-04-29T00:00:00Z   62    JARDIM DA PENHA            0             1   \n",
       "1  2016-04-29T00:00:00Z   56    JARDIM DA PENHA            0             0   \n",
       "2  2016-04-29T00:00:00Z   62      MATA DA PRAIA            0             0   \n",
       "3  2016-04-29T00:00:00Z    8  PONTAL DE CAMBURI            0             0   \n",
       "4  2016-04-29T00:00:00Z   56    JARDIM DA PENHA            0             1   \n",
       "\n",
       "   diabetes  alcoholism  handicap  sms_received no_show  \n",
       "0         0           0         0             0      No  \n",
       "1         0           0         0             0      No  \n",
       "2         0           0         0             0      No  \n",
       "3         0           0         0             0      No  \n",
       "4         1           0         0             0      No  "
      ]
     },
     "execution_count": 9,
     "metadata": {},
     "output_type": "execute_result"
    }
   ],
   "source": [
    "# We need to know if the columns have been renamed. \n",
    "# The code snippet will display the head of the dataset again to reveal the new names \n",
    "no_show_df.head()"
   ]
  },
  {
   "cell_type": "markdown",
   "metadata": {},
   "source": [
    "The output above shows that all the column names have changed to new ones "
   ]
  },
  {
   "cell_type": "markdown",
   "metadata": {},
   "source": [
    "The ScheduledDay(now scheduled_day) and AppointmentDay(now appointment_day) are string.\n",
    "The section below will convert from string to datetime"
   ]
  },
  {
   "cell_type": "code",
   "execution_count": 10,
   "metadata": {},
   "outputs": [],
   "source": [
    "# Convert date under scheduled_day and appointment_day from string to datetime\n",
    "no_show_df['scheduled_day'] = pd.to_datetime(no_show_df['scheduled_day'])\n",
    "no_show_df['appointment_day'] = pd.to_datetime(no_show_df['appointment_day'])"
   ]
  },
  {
   "cell_type": "code",
   "execution_count": 11,
   "metadata": {},
   "outputs": [
    {
     "data": {
      "text/html": [
       "<div>\n",
       "<style scoped>\n",
       "    .dataframe tbody tr th:only-of-type {\n",
       "        vertical-align: middle;\n",
       "    }\n",
       "\n",
       "    .dataframe tbody tr th {\n",
       "        vertical-align: top;\n",
       "    }\n",
       "\n",
       "    .dataframe thead th {\n",
       "        text-align: right;\n",
       "    }\n",
       "</style>\n",
       "<table border=\"1\" class=\"dataframe\">\n",
       "  <thead>\n",
       "    <tr style=\"text-align: right;\">\n",
       "      <th></th>\n",
       "      <th>patient_id</th>\n",
       "      <th>appointment_id</th>\n",
       "      <th>gender</th>\n",
       "      <th>scheduled_day</th>\n",
       "      <th>appointment_day</th>\n",
       "      <th>age</th>\n",
       "      <th>neighbourhood</th>\n",
       "      <th>scholarship</th>\n",
       "      <th>hypertension</th>\n",
       "      <th>diabetes</th>\n",
       "      <th>alcoholism</th>\n",
       "      <th>handicap</th>\n",
       "      <th>sms_received</th>\n",
       "      <th>no_show</th>\n",
       "    </tr>\n",
       "  </thead>\n",
       "  <tbody>\n",
       "    <tr>\n",
       "      <th>0</th>\n",
       "      <td>2.987250e+13</td>\n",
       "      <td>5642903</td>\n",
       "      <td>F</td>\n",
       "      <td>2016-04-29 18:38:08+00:00</td>\n",
       "      <td>2016-04-29 00:00:00+00:00</td>\n",
       "      <td>62</td>\n",
       "      <td>JARDIM DA PENHA</td>\n",
       "      <td>0</td>\n",
       "      <td>1</td>\n",
       "      <td>0</td>\n",
       "      <td>0</td>\n",
       "      <td>0</td>\n",
       "      <td>0</td>\n",
       "      <td>No</td>\n",
       "    </tr>\n",
       "    <tr>\n",
       "      <th>1</th>\n",
       "      <td>5.589978e+14</td>\n",
       "      <td>5642503</td>\n",
       "      <td>M</td>\n",
       "      <td>2016-04-29 16:08:27+00:00</td>\n",
       "      <td>2016-04-29 00:00:00+00:00</td>\n",
       "      <td>56</td>\n",
       "      <td>JARDIM DA PENHA</td>\n",
       "      <td>0</td>\n",
       "      <td>0</td>\n",
       "      <td>0</td>\n",
       "      <td>0</td>\n",
       "      <td>0</td>\n",
       "      <td>0</td>\n",
       "      <td>No</td>\n",
       "    </tr>\n",
       "    <tr>\n",
       "      <th>2</th>\n",
       "      <td>4.262962e+12</td>\n",
       "      <td>5642549</td>\n",
       "      <td>F</td>\n",
       "      <td>2016-04-29 16:19:04+00:00</td>\n",
       "      <td>2016-04-29 00:00:00+00:00</td>\n",
       "      <td>62</td>\n",
       "      <td>MATA DA PRAIA</td>\n",
       "      <td>0</td>\n",
       "      <td>0</td>\n",
       "      <td>0</td>\n",
       "      <td>0</td>\n",
       "      <td>0</td>\n",
       "      <td>0</td>\n",
       "      <td>No</td>\n",
       "    </tr>\n",
       "    <tr>\n",
       "      <th>3</th>\n",
       "      <td>8.679512e+11</td>\n",
       "      <td>5642828</td>\n",
       "      <td>F</td>\n",
       "      <td>2016-04-29 17:29:31+00:00</td>\n",
       "      <td>2016-04-29 00:00:00+00:00</td>\n",
       "      <td>8</td>\n",
       "      <td>PONTAL DE CAMBURI</td>\n",
       "      <td>0</td>\n",
       "      <td>0</td>\n",
       "      <td>0</td>\n",
       "      <td>0</td>\n",
       "      <td>0</td>\n",
       "      <td>0</td>\n",
       "      <td>No</td>\n",
       "    </tr>\n",
       "    <tr>\n",
       "      <th>4</th>\n",
       "      <td>8.841186e+12</td>\n",
       "      <td>5642494</td>\n",
       "      <td>F</td>\n",
       "      <td>2016-04-29 16:07:23+00:00</td>\n",
       "      <td>2016-04-29 00:00:00+00:00</td>\n",
       "      <td>56</td>\n",
       "      <td>JARDIM DA PENHA</td>\n",
       "      <td>0</td>\n",
       "      <td>1</td>\n",
       "      <td>1</td>\n",
       "      <td>0</td>\n",
       "      <td>0</td>\n",
       "      <td>0</td>\n",
       "      <td>No</td>\n",
       "    </tr>\n",
       "  </tbody>\n",
       "</table>\n",
       "</div>"
      ],
      "text/plain": [
       "     patient_id  appointment_id gender             scheduled_day  \\\n",
       "0  2.987250e+13         5642903      F 2016-04-29 18:38:08+00:00   \n",
       "1  5.589978e+14         5642503      M 2016-04-29 16:08:27+00:00   \n",
       "2  4.262962e+12         5642549      F 2016-04-29 16:19:04+00:00   \n",
       "3  8.679512e+11         5642828      F 2016-04-29 17:29:31+00:00   \n",
       "4  8.841186e+12         5642494      F 2016-04-29 16:07:23+00:00   \n",
       "\n",
       "            appointment_day  age      neighbourhood  scholarship  \\\n",
       "0 2016-04-29 00:00:00+00:00   62    JARDIM DA PENHA            0   \n",
       "1 2016-04-29 00:00:00+00:00   56    JARDIM DA PENHA            0   \n",
       "2 2016-04-29 00:00:00+00:00   62      MATA DA PRAIA            0   \n",
       "3 2016-04-29 00:00:00+00:00    8  PONTAL DE CAMBURI            0   \n",
       "4 2016-04-29 00:00:00+00:00   56    JARDIM DA PENHA            0   \n",
       "\n",
       "   hypertension  diabetes  alcoholism  handicap  sms_received no_show  \n",
       "0             1         0           0         0             0      No  \n",
       "1             0         0           0         0             0      No  \n",
       "2             0         0           0         0             0      No  \n",
       "3             0         0           0         0             0      No  \n",
       "4             1         1           0         0             0      No  "
      ]
     },
     "execution_count": 11,
     "metadata": {},
     "output_type": "execute_result"
    }
   ],
   "source": [
    "# This code below will display the dataset to confirm if the date under scheduled_day \n",
    "# and appointment_day has changed from string to datetime\n",
    "no_show_df.head()"
   ]
  },
  {
   "cell_type": "code",
   "execution_count": 12,
   "metadata": {},
   "outputs": [
    {
     "name": "stdout",
     "output_type": "stream",
     "text": [
      "<class 'pandas.core.frame.DataFrame'>\n",
      "RangeIndex: 110527 entries, 0 to 110526\n",
      "Data columns (total 14 columns):\n",
      " #   Column           Non-Null Count   Dtype              \n",
      "---  ------           --------------   -----              \n",
      " 0   patient_id       110527 non-null  float64            \n",
      " 1   appointment_id   110527 non-null  int64              \n",
      " 2   gender           110527 non-null  object             \n",
      " 3   scheduled_day    110527 non-null  datetime64[ns, UTC]\n",
      " 4   appointment_day  110527 non-null  datetime64[ns, UTC]\n",
      " 5   age              110527 non-null  int64              \n",
      " 6   neighbourhood    110527 non-null  object             \n",
      " 7   scholarship      110527 non-null  int64              \n",
      " 8   hypertension     110527 non-null  int64              \n",
      " 9   diabetes         110527 non-null  int64              \n",
      " 10  alcoholism       110527 non-null  int64              \n",
      " 11  handicap         110527 non-null  int64              \n",
      " 12  sms_received     110527 non-null  int64              \n",
      " 13  no_show          110527 non-null  object             \n",
      "dtypes: datetime64[ns, UTC](2), float64(1), int64(8), object(3)\n",
      "memory usage: 11.8+ MB\n"
     ]
    }
   ],
   "source": [
    "no_show_df.info()"
   ]
  },
  {
   "cell_type": "markdown",
   "metadata": {},
   "source": [
    "In the output above, the date under 'scheduled_day' and 'appointment_day' has \n",
    "changed from string to datetime. This will ease our analysis.   "
   ]
  },
  {
   "cell_type": "markdown",
   "metadata": {},
   "source": [
    "The next issue is to remove the outlier. \n",
    "The negative value under 'age' is not an acceptable age."
   ]
  },
  {
   "cell_type": "code",
   "execution_count": 13,
   "metadata": {},
   "outputs": [
    {
     "data": {
      "text/html": [
       "<div>\n",
       "<style scoped>\n",
       "    .dataframe tbody tr th:only-of-type {\n",
       "        vertical-align: middle;\n",
       "    }\n",
       "\n",
       "    .dataframe tbody tr th {\n",
       "        vertical-align: top;\n",
       "    }\n",
       "\n",
       "    .dataframe thead th {\n",
       "        text-align: right;\n",
       "    }\n",
       "</style>\n",
       "<table border=\"1\" class=\"dataframe\">\n",
       "  <thead>\n",
       "    <tr style=\"text-align: right;\">\n",
       "      <th></th>\n",
       "      <th>patient_id</th>\n",
       "      <th>appointment_id</th>\n",
       "      <th>age</th>\n",
       "      <th>scholarship</th>\n",
       "      <th>hypertension</th>\n",
       "      <th>diabetes</th>\n",
       "      <th>alcoholism</th>\n",
       "      <th>handicap</th>\n",
       "      <th>sms_received</th>\n",
       "    </tr>\n",
       "  </thead>\n",
       "  <tbody>\n",
       "    <tr>\n",
       "      <th>count</th>\n",
       "      <td>1.105270e+05</td>\n",
       "      <td>1.105270e+05</td>\n",
       "      <td>110527.000000</td>\n",
       "      <td>110527.000000</td>\n",
       "      <td>110527.000000</td>\n",
       "      <td>110527.000000</td>\n",
       "      <td>110527.000000</td>\n",
       "      <td>110527.000000</td>\n",
       "      <td>110527.000000</td>\n",
       "    </tr>\n",
       "    <tr>\n",
       "      <th>mean</th>\n",
       "      <td>1.474963e+14</td>\n",
       "      <td>5.675305e+06</td>\n",
       "      <td>37.088874</td>\n",
       "      <td>0.098266</td>\n",
       "      <td>0.197246</td>\n",
       "      <td>0.071865</td>\n",
       "      <td>0.030400</td>\n",
       "      <td>0.022248</td>\n",
       "      <td>0.321026</td>\n",
       "    </tr>\n",
       "    <tr>\n",
       "      <th>std</th>\n",
       "      <td>2.560949e+14</td>\n",
       "      <td>7.129575e+04</td>\n",
       "      <td>23.110205</td>\n",
       "      <td>0.297675</td>\n",
       "      <td>0.397921</td>\n",
       "      <td>0.258265</td>\n",
       "      <td>0.171686</td>\n",
       "      <td>0.161543</td>\n",
       "      <td>0.466873</td>\n",
       "    </tr>\n",
       "    <tr>\n",
       "      <th>min</th>\n",
       "      <td>3.921784e+04</td>\n",
       "      <td>5.030230e+06</td>\n",
       "      <td>-1.000000</td>\n",
       "      <td>0.000000</td>\n",
       "      <td>0.000000</td>\n",
       "      <td>0.000000</td>\n",
       "      <td>0.000000</td>\n",
       "      <td>0.000000</td>\n",
       "      <td>0.000000</td>\n",
       "    </tr>\n",
       "    <tr>\n",
       "      <th>25%</th>\n",
       "      <td>4.172614e+12</td>\n",
       "      <td>5.640286e+06</td>\n",
       "      <td>18.000000</td>\n",
       "      <td>0.000000</td>\n",
       "      <td>0.000000</td>\n",
       "      <td>0.000000</td>\n",
       "      <td>0.000000</td>\n",
       "      <td>0.000000</td>\n",
       "      <td>0.000000</td>\n",
       "    </tr>\n",
       "    <tr>\n",
       "      <th>50%</th>\n",
       "      <td>3.173184e+13</td>\n",
       "      <td>5.680573e+06</td>\n",
       "      <td>37.000000</td>\n",
       "      <td>0.000000</td>\n",
       "      <td>0.000000</td>\n",
       "      <td>0.000000</td>\n",
       "      <td>0.000000</td>\n",
       "      <td>0.000000</td>\n",
       "      <td>0.000000</td>\n",
       "    </tr>\n",
       "    <tr>\n",
       "      <th>75%</th>\n",
       "      <td>9.439172e+13</td>\n",
       "      <td>5.725524e+06</td>\n",
       "      <td>55.000000</td>\n",
       "      <td>0.000000</td>\n",
       "      <td>0.000000</td>\n",
       "      <td>0.000000</td>\n",
       "      <td>0.000000</td>\n",
       "      <td>0.000000</td>\n",
       "      <td>1.000000</td>\n",
       "    </tr>\n",
       "    <tr>\n",
       "      <th>max</th>\n",
       "      <td>9.999816e+14</td>\n",
       "      <td>5.790484e+06</td>\n",
       "      <td>115.000000</td>\n",
       "      <td>1.000000</td>\n",
       "      <td>1.000000</td>\n",
       "      <td>1.000000</td>\n",
       "      <td>1.000000</td>\n",
       "      <td>4.000000</td>\n",
       "      <td>1.000000</td>\n",
       "    </tr>\n",
       "  </tbody>\n",
       "</table>\n",
       "</div>"
      ],
      "text/plain": [
       "         patient_id  appointment_id            age    scholarship  \\\n",
       "count  1.105270e+05    1.105270e+05  110527.000000  110527.000000   \n",
       "mean   1.474963e+14    5.675305e+06      37.088874       0.098266   \n",
       "std    2.560949e+14    7.129575e+04      23.110205       0.297675   \n",
       "min    3.921784e+04    5.030230e+06      -1.000000       0.000000   \n",
       "25%    4.172614e+12    5.640286e+06      18.000000       0.000000   \n",
       "50%    3.173184e+13    5.680573e+06      37.000000       0.000000   \n",
       "75%    9.439172e+13    5.725524e+06      55.000000       0.000000   \n",
       "max    9.999816e+14    5.790484e+06     115.000000       1.000000   \n",
       "\n",
       "        hypertension       diabetes     alcoholism       handicap  \\\n",
       "count  110527.000000  110527.000000  110527.000000  110527.000000   \n",
       "mean        0.197246       0.071865       0.030400       0.022248   \n",
       "std         0.397921       0.258265       0.171686       0.161543   \n",
       "min         0.000000       0.000000       0.000000       0.000000   \n",
       "25%         0.000000       0.000000       0.000000       0.000000   \n",
       "50%         0.000000       0.000000       0.000000       0.000000   \n",
       "75%         0.000000       0.000000       0.000000       0.000000   \n",
       "max         1.000000       1.000000       1.000000       4.000000   \n",
       "\n",
       "        sms_received  \n",
       "count  110527.000000  \n",
       "mean        0.321026  \n",
       "std         0.466873  \n",
       "min         0.000000  \n",
       "25%         0.000000  \n",
       "50%         0.000000  \n",
       "75%         1.000000  \n",
       "max         1.000000  "
      ]
     },
     "execution_count": 13,
     "metadata": {},
     "output_type": "execute_result"
    }
   ],
   "source": [
    "no_show_df.describe()"
   ]
  },
  {
   "cell_type": "markdown",
   "metadata": {},
   "source": [
    "There is need to remove the rows that contain -1 because age can never be negative."
   ]
  },
  {
   "cell_type": "code",
   "execution_count": 14,
   "metadata": {},
   "outputs": [
    {
     "data": {
      "text/plain": [
       "Int64Index([99832], dtype='int64')"
      ]
     },
     "execution_count": 14,
     "metadata": {},
     "output_type": "execute_result"
    }
   ],
   "source": [
    "# This section collate all index with 'age' < 0 and save them as outlier_age \n",
    "outlier_below = no_show_df[no_show_df['age'] < 0].index\n",
    "outlier_below"
   ]
  },
  {
   "cell_type": "code",
   "execution_count": 15,
   "metadata": {},
   "outputs": [],
   "source": [
    "# This section drop all the rows that contain such values\n",
    "no_show_df.drop(outlier_below, inplace=True)"
   ]
  },
  {
   "cell_type": "code",
   "execution_count": 16,
   "metadata": {},
   "outputs": [
    {
     "data": {
      "text/html": [
       "<div>\n",
       "<style scoped>\n",
       "    .dataframe tbody tr th:only-of-type {\n",
       "        vertical-align: middle;\n",
       "    }\n",
       "\n",
       "    .dataframe tbody tr th {\n",
       "        vertical-align: top;\n",
       "    }\n",
       "\n",
       "    .dataframe thead th {\n",
       "        text-align: right;\n",
       "    }\n",
       "</style>\n",
       "<table border=\"1\" class=\"dataframe\">\n",
       "  <thead>\n",
       "    <tr style=\"text-align: right;\">\n",
       "      <th></th>\n",
       "      <th>patient_id</th>\n",
       "      <th>appointment_id</th>\n",
       "      <th>age</th>\n",
       "      <th>scholarship</th>\n",
       "      <th>hypertension</th>\n",
       "      <th>diabetes</th>\n",
       "      <th>alcoholism</th>\n",
       "      <th>handicap</th>\n",
       "      <th>sms_received</th>\n",
       "    </tr>\n",
       "  </thead>\n",
       "  <tbody>\n",
       "    <tr>\n",
       "      <th>count</th>\n",
       "      <td>1.105260e+05</td>\n",
       "      <td>1.105260e+05</td>\n",
       "      <td>110526.000000</td>\n",
       "      <td>110526.000000</td>\n",
       "      <td>110526.000000</td>\n",
       "      <td>110526.000000</td>\n",
       "      <td>110526.000000</td>\n",
       "      <td>110526.000000</td>\n",
       "      <td>110526.000000</td>\n",
       "    </tr>\n",
       "    <tr>\n",
       "      <th>mean</th>\n",
       "      <td>1.474934e+14</td>\n",
       "      <td>5.675304e+06</td>\n",
       "      <td>37.089219</td>\n",
       "      <td>0.098266</td>\n",
       "      <td>0.197248</td>\n",
       "      <td>0.071865</td>\n",
       "      <td>0.030400</td>\n",
       "      <td>0.022248</td>\n",
       "      <td>0.321029</td>\n",
       "    </tr>\n",
       "    <tr>\n",
       "      <th>std</th>\n",
       "      <td>2.560943e+14</td>\n",
       "      <td>7.129544e+04</td>\n",
       "      <td>23.110026</td>\n",
       "      <td>0.297676</td>\n",
       "      <td>0.397923</td>\n",
       "      <td>0.258266</td>\n",
       "      <td>0.171686</td>\n",
       "      <td>0.161543</td>\n",
       "      <td>0.466874</td>\n",
       "    </tr>\n",
       "    <tr>\n",
       "      <th>min</th>\n",
       "      <td>3.921784e+04</td>\n",
       "      <td>5.030230e+06</td>\n",
       "      <td>0.000000</td>\n",
       "      <td>0.000000</td>\n",
       "      <td>0.000000</td>\n",
       "      <td>0.000000</td>\n",
       "      <td>0.000000</td>\n",
       "      <td>0.000000</td>\n",
       "      <td>0.000000</td>\n",
       "    </tr>\n",
       "    <tr>\n",
       "      <th>25%</th>\n",
       "      <td>4.172536e+12</td>\n",
       "      <td>5.640285e+06</td>\n",
       "      <td>18.000000</td>\n",
       "      <td>0.000000</td>\n",
       "      <td>0.000000</td>\n",
       "      <td>0.000000</td>\n",
       "      <td>0.000000</td>\n",
       "      <td>0.000000</td>\n",
       "      <td>0.000000</td>\n",
       "    </tr>\n",
       "    <tr>\n",
       "      <th>50%</th>\n",
       "      <td>3.173184e+13</td>\n",
       "      <td>5.680572e+06</td>\n",
       "      <td>37.000000</td>\n",
       "      <td>0.000000</td>\n",
       "      <td>0.000000</td>\n",
       "      <td>0.000000</td>\n",
       "      <td>0.000000</td>\n",
       "      <td>0.000000</td>\n",
       "      <td>0.000000</td>\n",
       "    </tr>\n",
       "    <tr>\n",
       "      <th>75%</th>\n",
       "      <td>9.438963e+13</td>\n",
       "      <td>5.725523e+06</td>\n",
       "      <td>55.000000</td>\n",
       "      <td>0.000000</td>\n",
       "      <td>0.000000</td>\n",
       "      <td>0.000000</td>\n",
       "      <td>0.000000</td>\n",
       "      <td>0.000000</td>\n",
       "      <td>1.000000</td>\n",
       "    </tr>\n",
       "    <tr>\n",
       "      <th>max</th>\n",
       "      <td>9.999816e+14</td>\n",
       "      <td>5.790484e+06</td>\n",
       "      <td>115.000000</td>\n",
       "      <td>1.000000</td>\n",
       "      <td>1.000000</td>\n",
       "      <td>1.000000</td>\n",
       "      <td>1.000000</td>\n",
       "      <td>4.000000</td>\n",
       "      <td>1.000000</td>\n",
       "    </tr>\n",
       "  </tbody>\n",
       "</table>\n",
       "</div>"
      ],
      "text/plain": [
       "         patient_id  appointment_id            age    scholarship  \\\n",
       "count  1.105260e+05    1.105260e+05  110526.000000  110526.000000   \n",
       "mean   1.474934e+14    5.675304e+06      37.089219       0.098266   \n",
       "std    2.560943e+14    7.129544e+04      23.110026       0.297676   \n",
       "min    3.921784e+04    5.030230e+06       0.000000       0.000000   \n",
       "25%    4.172536e+12    5.640285e+06      18.000000       0.000000   \n",
       "50%    3.173184e+13    5.680572e+06      37.000000       0.000000   \n",
       "75%    9.438963e+13    5.725523e+06      55.000000       0.000000   \n",
       "max    9.999816e+14    5.790484e+06     115.000000       1.000000   \n",
       "\n",
       "        hypertension       diabetes     alcoholism       handicap  \\\n",
       "count  110526.000000  110526.000000  110526.000000  110526.000000   \n",
       "mean        0.197248       0.071865       0.030400       0.022248   \n",
       "std         0.397923       0.258266       0.171686       0.161543   \n",
       "min         0.000000       0.000000       0.000000       0.000000   \n",
       "25%         0.000000       0.000000       0.000000       0.000000   \n",
       "50%         0.000000       0.000000       0.000000       0.000000   \n",
       "75%         0.000000       0.000000       0.000000       0.000000   \n",
       "max         1.000000       1.000000       1.000000       4.000000   \n",
       "\n",
       "        sms_received  \n",
       "count  110526.000000  \n",
       "mean        0.321029  \n",
       "std         0.466874  \n",
       "min         0.000000  \n",
       "25%         0.000000  \n",
       "50%         0.000000  \n",
       "75%         1.000000  \n",
       "max         1.000000  "
      ]
     },
     "execution_count": 16,
     "metadata": {},
     "output_type": "execute_result"
    }
   ],
   "source": [
    "# We need to run the code below to confirm whether the rows has been removed or not\n",
    "no_show_df.describe()"
   ]
  },
  {
   "cell_type": "code",
   "execution_count": 17,
   "metadata": {},
   "outputs": [
    {
     "name": "stdout",
     "output_type": "stream",
     "text": [
      "<class 'pandas.core.frame.DataFrame'>\n",
      "Int64Index: 110526 entries, 0 to 110526\n",
      "Data columns (total 14 columns):\n",
      " #   Column           Non-Null Count   Dtype              \n",
      "---  ------           --------------   -----              \n",
      " 0   patient_id       110526 non-null  float64            \n",
      " 1   appointment_id   110526 non-null  int64              \n",
      " 2   gender           110526 non-null  object             \n",
      " 3   scheduled_day    110526 non-null  datetime64[ns, UTC]\n",
      " 4   appointment_day  110526 non-null  datetime64[ns, UTC]\n",
      " 5   age              110526 non-null  int64              \n",
      " 6   neighbourhood    110526 non-null  object             \n",
      " 7   scholarship      110526 non-null  int64              \n",
      " 8   hypertension     110526 non-null  int64              \n",
      " 9   diabetes         110526 non-null  int64              \n",
      " 10  alcoholism       110526 non-null  int64              \n",
      " 11  handicap         110526 non-null  int64              \n",
      " 12  sms_received     110526 non-null  int64              \n",
      " 13  no_show          110526 non-null  object             \n",
      "dtypes: datetime64[ns, UTC](2), float64(1), int64(8), object(3)\n",
      "memory usage: 12.6+ MB\n"
     ]
    }
   ],
   "source": [
    "no_show_df.info()"
   ]
  },
  {
   "cell_type": "markdown",
   "metadata": {},
   "source": [
    "The output above reveals that out of 110527 data entries, 1 row had values below 0. \n",
    "We are left with 110526 entries.\n",
    "\n",
    "Next we will take a look at the outliers above the life expextancy in Brazil.\n",
    "Life expectancy is currently 76 years according to world bank(2018)"
   ]
  },
  {
   "cell_type": "code",
   "execution_count": 18,
   "metadata": {},
   "outputs": [
    {
     "data": {
      "text/plain": [
       "Int64Index([     5,     34,     38,     44,    189,    190,    243,    281,\n",
       "               296,    325,\n",
       "            ...\n",
       "            110271, 110275, 110288, 110453, 110456, 110468, 110471, 110476,\n",
       "            110488, 110497],\n",
       "           dtype='int64', length=5392)"
      ]
     },
     "execution_count": 18,
     "metadata": {},
     "output_type": "execute_result"
    }
   ],
   "source": [
    "# How many patients' age are above life expectancy in Brazil\n",
    "outlier_over = no_show_df[no_show_df['age'] >= 76].index\n",
    "outlier_over"
   ]
  },
  {
   "cell_type": "markdown",
   "metadata": {},
   "source": [
    "There are 5,392 patients above the life expectancy in Brazil."
   ]
  },
  {
   "cell_type": "code",
   "execution_count": 19,
   "metadata": {},
   "outputs": [],
   "source": [
    "# This section drop all the rows that contain such values\n",
    "no_show_df.drop(outlier_over, inplace=True)"
   ]
  },
  {
   "cell_type": "code",
   "execution_count": 20,
   "metadata": {},
   "outputs": [
    {
     "name": "stdout",
     "output_type": "stream",
     "text": [
      "<class 'pandas.core.frame.DataFrame'>\n",
      "Int64Index: 105134 entries, 0 to 110526\n",
      "Data columns (total 14 columns):\n",
      " #   Column           Non-Null Count   Dtype              \n",
      "---  ------           --------------   -----              \n",
      " 0   patient_id       105134 non-null  float64            \n",
      " 1   appointment_id   105134 non-null  int64              \n",
      " 2   gender           105134 non-null  object             \n",
      " 3   scheduled_day    105134 non-null  datetime64[ns, UTC]\n",
      " 4   appointment_day  105134 non-null  datetime64[ns, UTC]\n",
      " 5   age              105134 non-null  int64              \n",
      " 6   neighbourhood    105134 non-null  object             \n",
      " 7   scholarship      105134 non-null  int64              \n",
      " 8   hypertension     105134 non-null  int64              \n",
      " 9   diabetes         105134 non-null  int64              \n",
      " 10  alcoholism       105134 non-null  int64              \n",
      " 11  handicap         105134 non-null  int64              \n",
      " 12  sms_received     105134 non-null  int64              \n",
      " 13  no_show          105134 non-null  object             \n",
      "dtypes: datetime64[ns, UTC](2), float64(1), int64(8), object(3)\n",
      "memory usage: 12.0+ MB\n"
     ]
    }
   ],
   "source": [
    "no_show_df.info()"
   ]
  },
  {
   "cell_type": "markdown",
   "metadata": {},
   "source": [
    "#### The next parameter to check is duplicate rows. It is important to identify and remove duplicate rows"
   ]
  },
  {
   "cell_type": "code",
   "execution_count": 21,
   "metadata": {},
   "outputs": [
    {
     "data": {
      "text/html": [
       "<div>\n",
       "<style scoped>\n",
       "    .dataframe tbody tr th:only-of-type {\n",
       "        vertical-align: middle;\n",
       "    }\n",
       "\n",
       "    .dataframe tbody tr th {\n",
       "        vertical-align: top;\n",
       "    }\n",
       "\n",
       "    .dataframe thead th {\n",
       "        text-align: right;\n",
       "    }\n",
       "</style>\n",
       "<table border=\"1\" class=\"dataframe\">\n",
       "  <thead>\n",
       "    <tr style=\"text-align: right;\">\n",
       "      <th></th>\n",
       "      <th>patient_id</th>\n",
       "      <th>appointment_id</th>\n",
       "      <th>gender</th>\n",
       "      <th>scheduled_day</th>\n",
       "      <th>appointment_day</th>\n",
       "      <th>age</th>\n",
       "      <th>neighbourhood</th>\n",
       "      <th>scholarship</th>\n",
       "      <th>hypertension</th>\n",
       "      <th>diabetes</th>\n",
       "      <th>alcoholism</th>\n",
       "      <th>handicap</th>\n",
       "      <th>sms_received</th>\n",
       "      <th>no_show</th>\n",
       "    </tr>\n",
       "  </thead>\n",
       "  <tbody>\n",
       "  </tbody>\n",
       "</table>\n",
       "</div>"
      ],
      "text/plain": [
       "Empty DataFrame\n",
       "Columns: [patient_id, appointment_id, gender, scheduled_day, appointment_day, age, neighbourhood, scholarship, hypertension, diabetes, alcoholism, handicap, sms_received, no_show]\n",
       "Index: []"
      ]
     },
     "execution_count": 21,
     "metadata": {},
     "output_type": "execute_result"
    }
   ],
   "source": [
    "# We need to sort the duplicated rows using duplicated() \n",
    "duplicated_row = no_show_df[no_show_df.duplicated()]\n",
    "duplicated_row"
   ]
  },
  {
   "cell_type": "markdown",
   "metadata": {},
   "source": [
    "The output above indicates there are no duplicated rows in the dataset. \n",
    "It is time to dive into Exploratory Data Analysis (EDA) of our dataset."
   ]
  },
  {
   "cell_type": "markdown",
   "metadata": {},
   "source": [
    "<a id='eda'></a>\n",
    "## Exploratory Data Analysis\n",
    "\n",
    "\n",
    "\n",
    "### Research Question 1: How many of the patients who showed up for their appointments are over 20 years?"
   ]
  },
  {
   "cell_type": "code",
   "execution_count": 22,
   "metadata": {},
   "outputs": [
    {
     "data": {
      "image/png": "[encoded data removed]",
      "text/plain": [
       "<Figure size 640x480 with 1 Axes>"
      ]
     },
     "metadata": {},
     "output_type": "display_data"
    }
   ],
   "source": [
    "# We need to determine how many patients showed up for their appointments\n",
    "no_show_df.no_show.hist()\n",
    "plt.xlabel('Responses', fontsize=14)\n",
    "plt.ylabel('Population of Patients' , fontsize=14)\n",
    "plt.title(\"Histogram of Patients' Responses\", fontsize=18);\n"
   ]
  },
  {
   "cell_type": "code",
   "execution_count": 23,
   "metadata": {},
   "outputs": [
    {
     "name": "stdout",
     "output_type": "stream",
     "text": [
      "present =  83685\n",
      "absent =  21449\n",
      "Total =  105134\n"
     ]
    }
   ],
   "source": [
    "# Total number of patients that showed up for their appointments\n",
    "present = no_show_df.query('no_show == \"No\"', inplace=False).no_show.count()\n",
    "\n",
    "# Total number of patients that could not show up for their appointments\n",
    "absent = no_show_df.query('no_show == \"Yes\"', inplace=False).no_show.count()\n",
    "\n",
    "print(\"present = \", present)\n",
    "print(\"absent = \", absent)\n",
    "print(\"Total = \", present + absent)"
   ]
  },
  {
   "cell_type": "markdown",
   "metadata": {},
   "source": [
    "The output above revealed that 83,685 patients showed up for their appointments \n",
    "while 21,449 did now show up for their appointments. The total number of patients is 105,134.   "
   ]
  },
  {
   "cell_type": "code",
   "execution_count": 24,
   "metadata": {},
   "outputs": [
    {
     "data": {
      "image/png": "[encoded data removed]",
      "text/plain": [
       "<Figure size 640x480 with 1 Axes>"
      ]
     },
     "metadata": {},
     "output_type": "display_data"
    }
   ],
   "source": [
    "# We need to draw histogram to show age distribution in the dataset\n",
    "no_show_df.age.hist()\n",
    "plt.xlabel('Age', fontsize=14)\n",
    "plt.ylabel('Population of Age Groups' , fontsize=14)\n",
    "plt.title('Histogram of Age Distribution', fontsize=18);\n"
   ]
  },
  {
   "cell_type": "markdown",
   "metadata": {},
   "source": [
    "The histogram above shows the graphical age distribution of the dataset."
   ]
  },
  {
   "cell_type": "code",
   "execution_count": 25,
   "metadata": {},
   "outputs": [
    {
     "name": "stdout",
     "output_type": "stream",
     "text": [
      "Young =  30411\n",
      "Adult =  44692\n",
      "Senior citizens =  30031\n",
      "Total =  105134\n"
     ]
    }
   ],
   "source": [
    "# The number of patients that are below age 20 \n",
    "young = no_show_df.query('age < 20', inplace=False).no_show.count()\n",
    "\n",
    "# The number of patients between age 20 and 50\n",
    "adult = no_show_df.query('20 <= age <= 50', inplace=False).no_show.count()\n",
    "\n",
    "# The number of patients that are above age 50\n",
    "senior_citizens = no_show_df.query('age > 50', inplace=False).no_show.count()\n",
    "\n",
    "print(\"Young = \", young)\n",
    "print(\"Adult = \", adult)\n",
    "print(\"Senior citizens = \", senior_citizens)\n",
    "print(\"Total = \", young + adult + senior_citizens)"
   ]
  },
  {
   "cell_type": "code",
   "execution_count": 26,
   "metadata": {},
   "outputs": [
    {
     "data": {
      "image/png": "[encoded data removed]",
      "text/plain": [
       "<Figure size 640x480 with 1 Axes>"
      ]
     },
     "metadata": {},
     "output_type": "display_data"
    }
   ],
   "source": [
    "# We need to plot the bar chart for age groups in the entire dataset\n",
    "x = [1, 2, 3]\n",
    "y = [young, adult, senior_citizens]\n",
    "\n",
    "plt.bar(x, y, tick_label=['Young', 'Adult', 'Senior Citizens'])\n",
    "\n",
    "plt.xlabel('Age Groups', fontsize=14)\n",
    "plt.ylabel('Population of Patients in Each Group' , fontsize=14)\n",
    "plt.title('Age Groups for Entire Dataset', fontsize=18);\n",
    "plt.show();"
   ]
  },
  {
   "cell_type": "markdown",
   "metadata": {},
   "source": [
    "The following are the observations from the above histogram:\n",
    "1. Patients that are below 20 years of age are 30,411\n",
    "2. Between 20 and 50 years are 44,692\n",
    "3. Above 50 years of age are 30,031"
   ]
  },
  {
   "cell_type": "markdown",
   "metadata": {},
   "source": [
    "Its time to create a determine the patients that actually showed up for \n",
    "their appointments and their age distribution.  \n",
    "Remember 83,685 was the total number of patients that were present for their appointments."
   ]
  },
  {
   "cell_type": "code",
   "execution_count": 27,
   "metadata": {},
   "outputs": [
    {
     "name": "stdout",
     "output_type": "stream",
     "text": [
      "Young present =  23670\n",
      "Adult present =  34841\n",
      "Senior citizens present =  25174\n",
      "Total present= 83685\n"
     ]
    }
   ],
   "source": [
    "# We need to perform query() operation on patients that showed up for their appointments\n",
    "# The number of patients who showed up and are below age 20 \n",
    "young_present = no_show_df.query(\"age < 20  and no_show == 'No'\", inplace=False).no_show.count()\n",
    "\n",
    "# The number of patients who showed up and are between age 20 and 50\n",
    "adult_present = no_show_df.query(\"20 <= age <= 50 and no_show == 'No'\", inplace=False).no_show.count()\n",
    "\n",
    "# The number of patients who showed up and are above age 50\n",
    "senior_citizens_present = no_show_df.query(\"age > 50 and no_show == 'No'\", inplace=False).no_show.count()\n",
    "\n",
    "print(\"Young present = \", young_present)\n",
    "print(\"Adult present = \", adult_present)\n",
    "print(\"Senior citizens present = \", senior_citizens_present)\n",
    "print(\"Total present=\", young_present + adult_present + senior_citizens_present)"
   ]
  },
  {
   "cell_type": "markdown",
   "metadata": {},
   "source": [
    "Out of the 88,207 patients that showed up for their appointments, the following can observed:\n",
    "    1. 23,670 young persons below age 20 were present.\n",
    "    2. 34,841 adults between age 20 and 50 were present.\n",
    "    3. 29,696 senior citizens above age 50 were present."
   ]
  },
  {
   "cell_type": "markdown",
   "metadata": {},
   "source": [
    "It's time to plot the bar chart for the patients that actually showed up for their appointments"
   ]
  },
  {
   "cell_type": "code",
   "execution_count": 28,
   "metadata": {},
   "outputs": [
    {
     "data": {
      "image/png": "[encoded data removed]",
      "text/plain": [
       "<Figure size 640x480 with 1 Axes>"
      ]
     },
     "metadata": {},
     "output_type": "display_data"
    }
   ],
   "source": [
    "# Plot bar chart for age groups of patients that showed up for their appointments \n",
    "x = [1, 2, 3]\n",
    "y = [young_present, adult_present, senior_citizens_present]\n",
    "\n",
    "plt.bar(x, y, tick_label=['Young Present', 'Adult Present', 'Senior Citizens Present'])\n",
    "\n",
    "plt.xlabel('Age Groups for Patients that Showed Up', fontsize=14)\n",
    "plt.ylabel('Population of Patients that Showed Up' , fontsize=14)\n",
    "plt.title('Bar Chart for Patient that Showed Up', fontsize=18);\n"
   ]
  },
  {
   "cell_type": "markdown",
   "metadata": {},
   "source": [
    "The bar chart above is a replica of what was obtained for the entire dataset.\n",
    "However, we need to calculate the percentage of patients that showed up in each age group."
   ]
  },
  {
   "cell_type": "code",
   "execution_count": 29,
   "metadata": {},
   "outputs": [
    {
     "name": "stdout",
     "output_type": "stream",
     "text": [
      "28.28 % of young people showed up for their appointments.\n",
      "41.63 % of adults showed up for their appointments.\n",
      "30.08 % of senior citizens showed up for their appointments.\n"
     ]
    }
   ],
   "source": [
    "# Determine the percentage of patients that showed for each group\n",
    "# Percentage for young patients\n",
    "young_present_percent = (young_present/(young_present + adult_present + senior_citizens_present)) * 100 \n",
    "\n",
    "# Percentage for adult patients\n",
    "adult_present_percent = (adult_present/(young_present + adult_present + senior_citizens_present)) * 100 \n",
    "\n",
    "# Percentage for senior citizens patients\n",
    "senior_present_percent = (senior_citizens_present/(young_present + adult_present + senior_citizens_present)) * 100 \n",
    "\n",
    "# print the output as integers\n",
    "print(round(float(young_present_percent), 2),\"% of young people showed up for their appointments.\")\n",
    "print(round(float(adult_present_percent), 2),\"% of adults showed up for their appointments.\")\n",
    "print(round(float(senior_present_percent), 2),\"% of senior citizens showed up for their appointments.\")"
   ]
  },
  {
   "cell_type": "markdown",
   "metadata": {},
   "source": [
    "Adults and senior citizens have the highest percentage of patients that showed up for their appointments.\n",
    "71.71% patients that are above 20 years showed up for their appointments."
   ]
  },
  {
   "cell_type": "markdown",
   "metadata": {},
   "source": [
    "### Research Question 2: How many of the patients who showed up for their appointments are on Brasilian Welfare Program (Bolsa Familia)"
   ]
  },
  {
   "cell_type": "markdown",
   "metadata": {},
   "source": [
    "We need to determine the patients that are on Bolsa Familia and those are not on the program"
   ]
  },
  {
   "cell_type": "code",
   "execution_count": 30,
   "metadata": {},
   "outputs": [
    {
     "data": {
      "image/png": "[encoded data removed]",
      "text/plain": [
       "<Figure size 640x480 with 1 Axes>"
      ]
     },
     "metadata": {},
     "output_type": "display_data"
    }
   ],
   "source": [
    "# We need to first draw a histogram to show welfare participation distribution in the dataset\n",
    "no_show_df.scholarship.hist()\n",
    "plt.xlabel('Welfare Status', fontsize=14)\n",
    "plt.ylabel('Population on Bolsa Familia' , fontsize=14)\n",
    "plt.title('Histogram of Patients on Bolsa Familia', fontsize=18);\n"
   ]
  },
  {
   "cell_type": "markdown",
   "metadata": {},
   "source": [
    "Let us now determine the exact number of patients that are on the welfare program or not"
   ]
  },
  {
   "cell_type": "code",
   "execution_count": 31,
   "metadata": {},
   "outputs": [
    {
     "name": "stdout",
     "output_type": "stream",
     "text": [
      "Welfare =  10840\n",
      "No Welfare =  94294\n",
      "Total =  105134\n"
     ]
    }
   ],
   "source": [
    "# Total number of patients that are on Bolsa Familia\n",
    "welfare = no_show_df.query(\"scholarship == 1\", inplace=False).scholarship.count()\n",
    "\n",
    "# Total number of patients that are not on Bolsa Familia\n",
    "no_welfare = no_show_df.query(\"scholarship == 0\", inplace=False).scholarship.count()\n",
    "\n",
    "print(\"Welfare = \", welfare)\n",
    "print(\"No Welfare = \", no_welfare)\n",
    "print(\"Total = \", welfare + no_welfare)\n"
   ]
  },
  {
   "cell_type": "markdown",
   "metadata": {},
   "source": [
    ">From the output above, the following can be observed:\n",
    ">\n",
    ">    1. Total numbers of patients on Bolsa Familia were 10,840\n",
    ">   2. Total numbers of patients not on Bolsa Familia were 94,294"
   ]
  },
  {
   "cell_type": "markdown",
   "metadata": {},
   "source": [
    "We will now determine how many patients on Bolsa Familia showed up for their appointments.\n",
    "We will also determine how many of them on the program that did not show up"
   ]
  },
  {
   "cell_type": "code",
   "execution_count": 32,
   "metadata": {},
   "outputs": [
    {
     "name": "stdout",
     "output_type": "stream",
     "text": [
      "Welfare Present =  8263\n",
      "Welfare Absent =  2577\n",
      "Total Welfare = 10840\n"
     ]
    }
   ],
   "source": [
    "# We need to perform query() operation on patients that showed up for their appointments\n",
    "# These patients are also on Bolsa Familia\n",
    "# Patients on Bolsa Familia that also showed up for appointments\n",
    "welfare_present = no_show_df.query(\"scholarship == 1  and no_show == 'No'\", inplace=False).scholarship.count()\n",
    "\n",
    "# Patients on Bolsa Familia that did not showe up for appointments\n",
    "welfare_absent = no_show_df.query(\"scholarship == 1  and no_show == 'Yes'\", inplace=False).scholarship.count()\n",
    "\n",
    "print(\"Welfare Present = \", welfare_present)\n",
    "print(\"Welfare Absent = \", welfare_absent)\n",
    "\n",
    "print(\"Total Welfare =\", welfare_present + welfare_absent)"
   ]
  },
  {
   "cell_type": "markdown",
   "metadata": {},
   "source": [
    "The total number of patients on welfare tally with the number gotten above which is 10,840"
   ]
  },
  {
   "cell_type": "markdown",
   "metadata": {},
   "source": [
    ">These are the observations from the output above:\n",
    " >\n",
    " >1. 8,263 patients on Bolsa Familia showed up for their appointments.\n",
    " >\n",
    " >2. 2,577 patients on Bolsa Familia  did not show up for their appointments."
   ]
  },
  {
   "cell_type": "markdown",
   "metadata": {},
   "source": [
    "Let us now plot the bar chart for the output above."
   ]
  },
  {
   "cell_type": "code",
   "execution_count": 33,
   "metadata": {},
   "outputs": [
    {
     "data": {
      "image/png": "[encoded data removed]",
      "text/plain": [
       "<Figure size 640x480 with 1 Axes>"
      ]
     },
     "metadata": {},
     "output_type": "display_data"
    }
   ],
   "source": [
    "# Plot bar chart for age groups of patients that showed up for their appointments \n",
    "x = [1, 2]\n",
    "y = [welfare_present, welfare_absent]\n",
    "\n",
    "plt.bar(x, y, tick_label=['Welfare Present', 'Welfare Absent'])\n",
    "\n",
    "plt.xlabel('Patients Distribution on Bolsa Familia', fontsize=14)\n",
    "plt.ylabel('Population of Patients on Bolsa Familia' , fontsize=14)\n",
    "plt.title('Bar Chart for Patients on Bolsa Familia', fontsize=18);\n"
   ]
  },
  {
   "cell_type": "code",
   "execution_count": 34,
   "metadata": {},
   "outputs": [
    {
     "name": "stdout",
     "output_type": "stream",
     "text": [
      "76.23 % of patients on Bolsa Familia showed up for appointments.\n",
      "23.77 % of patients on Bolsa Familia did not show up for appointments.\n"
     ]
    }
   ],
   "source": [
    "# Determine the percentage of patients on Bolsa Familia that did showed up for their appointments\n",
    "welfare_present_percent = (welfare_present/(welfare_present + welfare_absent)) * 100 \n",
    "\n",
    "# Determine the percentage of patients on Bolsa Familia that did not showed up for their appointments\n",
    "welfare_absent_percent = (welfare_absent/(welfare_present + welfare_absent)) * 100 \n",
    "\n",
    "# print the output to decimal place\n",
    "print(round(float(welfare_present_percent), 2),\"% of patients on Bolsa Familia showed up for appointments.\")\n",
    "print(round(float(welfare_absent_percent), 2),\"% of patients on Bolsa Familia did not show up for appointments.\")\n"
   ]
  },
  {
   "cell_type": "markdown",
   "metadata": {},
   "source": [
    "\n",
    "\n",
    "#### 76.23% of patients on Bolsa Familia showed up for their appointments while 23.77% did not show up. This means that larger percentage of patients on Bolsa Familia understand the value of healthcare and hence they showed up for their appointments.\n"
   ]
  },
  {
   "cell_type": "markdown",
   "metadata": {},
   "source": [
    "### Research Question 3: How many patients showed up after receiving a reminder in form of SMS messages?"
   ]
  },
  {
   "cell_type": "code",
   "execution_count": 35,
   "metadata": {},
   "outputs": [
    {
     "data": {
      "image/png": "[encoded data removed]",
      "text/plain": [
       "<Figure size 640x480 with 1 Axes>"
      ]
     },
     "metadata": {},
     "output_type": "display_data"
    }
   ],
   "source": [
    "# We need to first draw a histogram to show the number of \n",
    "# patients that receive a reminder in form of SMS message\n",
    "no_show_df.sms_received.hist()\n",
    "plt.xlabel('SMS Messaging Status', fontsize=14)\n",
    "plt.ylabel('Population for SMS Message' , fontsize=14)\n",
    "plt.title('Histogram of Patients That Got SMS Reminder', fontsize=18);\n"
   ]
  },
  {
   "cell_type": "markdown",
   "metadata": {},
   "source": [
    "Let us find out how many patients actually received SMS messages and how many did not. "
   ]
  },
  {
   "cell_type": "code",
   "execution_count": 36,
   "metadata": {},
   "outputs": [
    {
     "name": "stdout",
     "output_type": "stream",
     "text": [
      "Reminder =  34004\n",
      "No Reminder =  71130\n",
      "Total =  105134\n"
     ]
    }
   ],
   "source": [
    "# Total number of patients that received SMS messages \n",
    "reminder = no_show_df.query(\"sms_received == 1\", inplace=False).sms_received.count()\n",
    "\n",
    "# Total number of patients that did not received SMS messages \n",
    "no_reminder = no_show_df.query(\"sms_received == 0\", inplace=False).sms_received.count()\n",
    "\n",
    "print(\"Reminder = \", reminder)\n",
    "print(\"No Reminder = \", no_reminder)\n",
    "print(\"Total = \", reminder + no_reminder)"
   ]
  },
  {
   "cell_type": "markdown",
   "metadata": {},
   "source": [
    "The output above shows that the SMS messages sent to patients as reminders are not enough. \n",
    "71,130 patients did not receive them."
   ]
  },
  {
   "cell_type": "markdown",
   "metadata": {},
   "source": [
    ">Observations: The following are observed from the output above:\n",
    ">\n",
    ">1. 34,004 patients received SMS messages as reminders for their appointments\n",
    ">2. 71,130 patients did not received SMS messages as reminders for their appointments"
   ]
  },
  {
   "cell_type": "markdown",
   "metadata": {},
   "source": [
    "We will now proceed to analyse the effects of SMS received on patients keeping their appointments."
   ]
  },
  {
   "cell_type": "code",
   "execution_count": 44,
   "metadata": {},
   "outputs": [
    {
     "name": "stdout",
     "output_type": "stream",
     "text": [
      "SMS Present =  24524\n",
      "SMS Absent =  9480\n",
      "Total SMS = 34004\n"
     ]
    }
   ],
   "source": [
    "# We need to perform query() operation on patients that showed up for their appointments\n",
    "# because of SMS messages received\n",
    "\n",
    "# Patients that received SMS messages and showed up for their appointments\n",
    "sms_present = no_show_df.query(\"sms_received == 1  and no_show == 'No'\", inplace=False).sms_received.count()\n",
    "\n",
    "# Patients that received SMS messages and did not show up for their appointments\n",
    "sms_absent = no_show_df.query(\"sms_received == 1  and no_show == 'Yes'\", inplace=False).sms_received.count()\n",
    "\n",
    "print(\"SMS Present = \", sms_present)\n",
    "print(\"SMS Absent = \", sms_absent)\n",
    "\n",
    "print(\"Total SMS =\", sms_present + sms_absent)"
   ]
  },
  {
   "cell_type": "markdown",
   "metadata": {},
   "source": [
    "The total sms tally with the total in the previous session, which is 34,004"
   ]
  },
  {
   "cell_type": "markdown",
   "metadata": {},
   "source": [
    ">Observations on the output above:\n",
    ">\n",
    ">1. 24,524 received SMS messages and showed up for their appointments\n",
    ">\n",
    ">2. 9480 received SMS messages and did not show up for their appointments"
   ]
  },
  {
   "cell_type": "markdown",
   "metadata": {},
   "source": [
    "We need to visualize the output above on a bar chart"
   ]
  },
  {
   "cell_type": "code",
   "execution_count": 45,
   "metadata": {},
   "outputs": [
    {
     "data": {
      "image/png": "[encoded data removed]",
      "text/plain": [
       "<Figure size 640x480 with 1 Axes>"
      ]
     },
     "metadata": {},
     "output_type": "display_data"
    }
   ],
   "source": [
    "# Plot bar chart for patients regarding wether they receive SMS message or not \n",
    "x = [1, 2]\n",
    "y = [sms_present, sms_absent]\n",
    "\n",
    "plt.bar(x, y, tick_label=['SMS Present', 'SMS Absent'])\n",
    "\n",
    "plt.xlabel(\"Patients' Distribution on SMS Platform\", fontsize=14)\n",
    "plt.ylabel('Population of Patients' , fontsize=14)\n",
    "plt.title(\"Bar Chart for Patients' on SMS Platform\", fontsize=18);"
   ]
  },
  {
   "cell_type": "code",
   "execution_count": 46,
   "metadata": {},
   "outputs": [
    {
     "name": "stdout",
     "output_type": "stream",
     "text": [
      "72.12 % of patients received SMS messages and showed up for appointments.\n",
      "27.88 % of patients received SMS messages and did not show up for appointments.\n"
     ]
    }
   ],
   "source": [
    "# Determine the percentage of patients on who received SMS message and showed up for their appointments\n",
    "sms_present_percent = (sms_present/(sms_present + sms_absent)) * 100 \n",
    "\n",
    "# Determine the percentage of patients on who received SMS message and did not show up for their appointments\n",
    "sms_absent_percent = (sms_absent/(sms_present + sms_absent)) * 100 \n",
    "\n",
    "# print the output to decimal place\n",
    "print(round(float(sms_present_percent), 2),\"% of patients received SMS messages and showed up for appointments.\")\n",
    "print(round(float(sms_absent_percent), 2),\"% of patients received SMS messages and did not show up for appointments.\")"
   ]
  },
  {
   "cell_type": "markdown",
   "metadata": {},
   "source": [
    "##### 72.12% of patients that received SMS messages as reminders showed up for their appointments, while 27.88% received SMS messages as reminders but did not show up for their appointments. We recomend that the hospital continue to send reminders to patients in form of SMS messages."
   ]
  },
  {
   "cell_type": "markdown",
   "metadata": {},
   "source": [
    "#### We will now save the edited dataset to reflect all the changes."
   ]
  },
  {
   "cell_type": "code",
   "execution_count": 47,
   "metadata": {},
   "outputs": [],
   "source": [
    "# We now save the edited dataset as no_show_appointments_edited.csv\n",
    "no_show_df.to_csv('no_show_appointments_edited.csv', index=False)"
   ]
  },
  {
   "cell_type": "markdown",
   "metadata": {},
   "source": [
    "<a id='conclusions'></a>\n",
    "## Conclusions\n",
    "\n",
    "\n",
    "The following are the conclusions we can draw from analysing the dataset above:\n",
    "1. Since 71.71% (adult-41.63% + senior citizens-30.08%) of patients that showed up for their appointments are of age 20 and above. There is high likelihood that someone in these age ranges will show up for their appontments. \n",
    "2. 76.23% of patients on Bolsa Familia showed up for their appointments. Patients that are enrolled in the welfare program will likely show up for their appointments.\n",
    "3. 71,130 out of 105,134 did not get reminders in form of SMS messages. 34,004 patients got reminders, out which 72.12% showed up for their appointments. It is possible that the number of patients that showed up for their appointment would have increased if the health care system invest more in notifying patients of their appointments at the hospitals.  \n",
    "\n",
    "\n",
    "## Limitations\n",
    "Below are the limitations of this projects:\n",
    "1. The row with negative age of -1 was removed, which can as well be replaced with the mean age.\n",
    "2. There are 5,392 patients above the life expectancy in Brazil. These patients were also not removed or replaced with mean age because in real life there may be some people which are actually above the life expectancy age. \n"
   ]
  },
  {
   "cell_type": "markdown",
   "metadata": {},
   "source": [
    "Student's activity on 29/09/2023\n",
    "1. Using the Prosper dataset, identify your dependent variable and independent variables\n",
    "2. Generate 3 research questions and answer them with your analysis"
   ]
  },
  {
   "cell_type": "markdown",
   "metadata": {},
   "source": [
    "<a id='resources'></a>\n",
    "## Resources"
   ]
  },
  {
   "cell_type": "markdown",
   "metadata": {},
   "source": [
    " > The following are the list of resources:\n",
    "      >  1. https://stackoverflow.com/questions/455612/limiting-floats-to-two-decimal-points\n",
    "      >\n",
    "      > 2. https://pandas.pydata.org/pandas-docs/stable/reference/api/pandas.DataFrame.query.html\n",
    "      >\n",
    "      > 3. https://pandas.pydata.org/pandas-docs/stable/reference/api/pandas.DataFrame.count.html\n",
    "      >\n",
    "      > 4. https://www.geeksforgeeks.org/python-pandas-dataframe-count/\n",
    "      >\n",
    "      > 5. https://medium.com/@nathancook_36247/pandas-dataframe-query-method-with-f-strings-b7ba272ff188\n",
    "      >\n",
    "      > 6. https://www.geeksforgeeks.org/different-ways-to-create-pandas-dataframe/\n",
    "      >\n",
    "      > 7. https://python-graph-gallery.com/4-add-title-and-axis-label/\n",
    "      >\n",
    "      > 8. https://matplotlib.org/tutorials/text/text_props.html\n",
    "      >\n",
    "      > 9. https://pandas.pydata.org/pandas-docs/stable/reference/api/pandas.DataFrame.duplicated.html\n",
    "      > 10. https://data.worldbank.org/indicator/SP.DYN.LE00.IN?locations=BR"
   ]
  }
 ],
 "metadata": {
  "kernelspec": {
   "display_name": "Python 3 (ipykernel)",
   "language": "python",
   "name": "python3"
  },
  "language_info": {
   "codemirror_mode": {
    "name": "ipython",
    "version": 3
   },
   "file_extension": ".py",
   "mimetype": "text/x-python",
   "name": "python",
   "nbconvert_exporter": "python",
   "pygments_lexer": "ipython3",
   "version": "3.10.9"
  }
 },
 "nbformat": 4,
 "nbformat_minor": 2
}
