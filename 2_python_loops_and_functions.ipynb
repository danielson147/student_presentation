{
 "cells": [
  {
   "cell_type": "markdown",
   "id": "2dce5e77",
   "metadata": {},
   "source": [
    "Introduction to Loops\n",
    "\n",
    "Topics:\n",
    "\n",
    "What are loops?\n",
    "Why use loops in programming?\n",
    "Introduction to for and while loops\n",
    "Loop control statements: break and continue\n"
   ]
  },
  {
   "cell_type": "code",
   "execution_count": 1,
   "id": "31241096",
   "metadata": {},
   "outputs": [
    {
     "name": "stdout",
     "output_type": "stream",
     "text": [
      "1\n",
      "2\n",
      "3\n",
      "4\n",
      "5\n",
      "Sum: 55\n"
     ]
    }
   ],
   "source": [
    "# Using a for loop to print numbers from 1 to 5\n",
    "for i in range(1, 6):\n",
    "    print(i)\n",
    "\n",
    "# Using a while loop to find the sum of numbers from 1 to 10\n",
    "total = 0\n",
    "num = 1\n",
    "while num <= 10:\n",
    "    total += num\n",
    "    num += 1\n",
    "print(\"Sum:\", total)\n"
   ]
  },
  {
   "cell_type": "code",
   "execution_count": 10,
   "id": "4cae3b22",
   "metadata": {},
   "outputs": [
    {
     "name": "stdout",
     "output_type": "stream",
     "text": [
      "1\n",
      "2\n",
      "3\n",
      "4\n",
      "5\n",
      "6\n",
      "7\n",
      "8\n",
      "9\n",
      "10\n",
      "11\n",
      "12\n",
      "13\n",
      "14\n"
     ]
    }
   ],
   "source": [
    "#For Loop\n",
    "for j in range(1, 15):\n",
    "    print(j)"
   ]
  },
  {
   "cell_type": "code",
   "execution_count": 12,
   "id": "0ee59610",
   "metadata": {},
   "outputs": [
    {
     "name": "stdout",
     "output_type": "stream",
     "text": [
      "Sum  55\n"
     ]
    }
   ],
   "source": [
    "total = 0\n",
    "num = 1\n",
    "while num <= 10:\n",
    "    total+=num\n",
    "    num+=1\n",
    "print(\"Sum \", total)"
   ]
  },
  {
   "cell_type": "markdown",
   "id": "83768226",
   "metadata": {},
   "source": [
    "for Loops and Iterables\n",
    "\n",
    "Topics:\n",
    "\n",
    "for loops with lists, tuples, and strings\n",
    "Iterating through dictionaries\n",
    "Nested for loops"
   ]
  },
  {
   "cell_type": "code",
   "execution_count": 17,
   "id": "6580f281",
   "metadata": {},
   "outputs": [
    {
     "name": "stdout",
     "output_type": "stream",
     "text": [
      "ford\n",
      "bmw\n",
      "toyota\n",
      "innoson\n"
     ]
    }
   ],
   "source": [
    "cars = [\"toyota\", 'ford', 'innoson','bmw']\n",
    "for car in cars:\n",
    "    print(car)\n",
    "     "
   ]
  },
  {
   "cell_type": "code",
   "execution_count": 20,
   "id": "e7033e17",
   "metadata": {},
   "outputs": [
    {
     "name": "stdout",
     "output_type": "stream",
     "text": [
      "food - sharwama\n",
      "drink - juice\n",
      "snacks - chocolate\n",
      "cost - 5000\n"
     ]
    }
   ],
   "source": [
    "#Dictionary\n",
    "picnic = {'food': 'sharwama', 'drink': 'juice','snacks':'chocolate', 'cost':5000}\n",
    "for key , value in picnic.items():\n",
    "    print(key, \"-\", value)"
   ]
  },
  {
   "cell_type": "code",
   "execution_count": 2,
   "id": "158641c7",
   "metadata": {},
   "outputs": [
    {
     "name": "stdout",
     "output_type": "stream",
     "text": [
      "apple\n",
      "banana\n",
      "cherry\n",
      "name : Alice\n",
      "age : 30\n",
      "city : Wonderland\n"
     ]
    }
   ],
   "source": [
    "# Iterating (loop) through a list\n",
    "fruits = ['apple', 'banana', 'cherry']\n",
    "for fruit in fruits:\n",
    "    print(fruit)\n",
    "\n",
    "# Iterating through a dictionary\n",
    "person = {'name': 'Alice', 'age': 30, 'city': 'Wonderland'}\n",
    "for key, value in person.items():\n",
    "    print(key, \":\", value)\n"
   ]
  },
  {
   "cell_type": "code",
   "execution_count": 8,
   "id": "04cd8147",
   "metadata": {},
   "outputs": [
    {
     "name": "stdout",
     "output_type": "stream",
     "text": [
      "banana\n",
      "apple\n",
      "orange\n",
      "cherry\n"
     ]
    }
   ],
   "source": [
    "fruits = ['banana', 'apple', 'orange', 'cherry']\n",
    "for fruit in fruits:\n",
    "    print(fruit)"
   ]
  },
  {
   "cell_type": "code",
   "execution_count": null,
   "id": "6797d47a",
   "metadata": {},
   "outputs": [],
   "source": [
    "person = {'name': 'John', 'age':23, 'state':'Akwa Ibom'}\n",
    "for key, value in person.items"
   ]
  },
  {
   "cell_type": "markdown",
   "id": "120094bf",
   "metadata": {},
   "source": [
    "while Loops and Loop Control\n",
    "\n",
    "Topics:\n",
    "\n",
    "Using while loops for indefinite iterations\n",
    "Loop control with break and continue\n",
    "Infinite loops and their prevention"
   ]
  },
  {
   "cell_type": "code",
   "execution_count": 3,
   "id": "5f32db6a",
   "metadata": {},
   "outputs": [
    {
     "name": "stdout",
     "output_type": "stream",
     "text": [
      "Count: 0\n",
      "Count: 1\n",
      "Count: 2\n",
      "Count: 3\n",
      "Count: 4\n",
      "1\n",
      "2\n",
      "3\n",
      "4\n",
      "5\n"
     ]
    }
   ],
   "source": [
    "# Using a while loop to repeat an action until a condition is met\n",
    "count = 0\n",
    "while count < 5:\n",
    "    print(\"Count:\", count)\n",
    "    count += 1\n",
    "\n",
    "# Using break to exit a loop early\n",
    "num = 1\n",
    "while True:\n",
    "    if num > 5:\n",
    "        break\n",
    "    print(num)\n",
    "    num += 1\n"
   ]
  },
  {
   "cell_type": "markdown",
   "id": "9eb91590",
   "metadata": {},
   "source": [
    "Functions in Python\n",
    "\n",
    "Topics:\n",
    "\n",
    "What are functions and why use them?\n",
    "Defining and calling functions\n",
    "Function parameters and return values\n",
    "Scope of variables (local vs. global)"
   ]
  },
  {
   "cell_type": "code",
   "execution_count": 27,
   "id": "79d09fc2",
   "metadata": {},
   "outputs": [
    {
     "ename": "SyntaxError",
     "evalue": "invalid syntax (3699970403.py, line 5)",
     "output_type": "error",
     "traceback": [
      "\u001b[1;36m  Cell \u001b[1;32mIn[27], line 5\u001b[1;36m\u001b[0m\n\u001b[1;33m    in = 2\u001b[0m\n\u001b[1;37m    ^\u001b[0m\n\u001b[1;31mSyntaxError\u001b[0m\u001b[1;31m:\u001b[0m invalid syntax\n"
     ]
    }
   ],
   "source": [
    "#System defined functions\n",
    "#print()\n",
    "#range()\n",
    "#sum()\n",
    "\n",
    "print(range)\n",
    "# Look up other system defined function and their examples "
   ]
  },
  {
   "cell_type": "code",
   "execution_count": null,
   "id": "83c7d8c9",
   "metadata": {},
   "outputs": [],
   "source": []
  },
  {
   "cell_type": "code",
   "execution_count": 32,
   "id": "ad425faf",
   "metadata": {},
   "outputs": [
    {
     "name": "stdout",
     "output_type": "stream",
     "text": [
      "7\n"
     ]
    }
   ],
   "source": [
    "#creating a function\n",
    "def sum(a, b):\n",
    "    return a  + b\n",
    "\n",
    "#calling a function\n",
    "total = sum(3,4)\n",
    "print(total)"
   ]
  },
  {
   "cell_type": "code",
   "execution_count": 4,
   "id": "9eed3ff8",
   "metadata": {},
   "outputs": [
    {
     "name": "stdout",
     "output_type": "stream",
     "text": [
      "Hello, Alice!\n",
      "Sum: 8\n"
     ]
    }
   ],
   "source": [
    "# Defining a simple function\n",
    "def greet(name):\n",
    "    return \"Hello, \" + name + \"!\"\n",
    "\n",
    "# Calling the function\n",
    "message = greet(\"Alice\")\n",
    "print(message)\n",
    "\n",
    "# Function with multiple parameters\n",
    "def add(a, b):\n",
    "    return a + b\n",
    "\n",
    "result = add(5, 3)\n",
    "print(\"Sum:\", result)\n"
   ]
  },
  {
   "cell_type": "code",
   "execution_count": 37,
   "id": "de82e6f0",
   "metadata": {},
   "outputs": [
    {
     "name": "stdout",
     "output_type": "stream",
     "text": [
      "Hello 45!\n"
     ]
    }
   ],
   "source": [
    "def greet(name):\n",
    "    return \"Hello \" + name + \"!\"\n",
    "\n",
    "message = greet('45')\n",
    "print(message)"
   ]
  },
  {
   "cell_type": "markdown",
   "id": "caa2dd62",
   "metadata": {},
   "source": [
    "Advanced Function Concepts\n",
    "\n",
    "Topics:\n",
    "\n",
    "Default and keyword arguments\n",
    "Lambda functions\n",
    "Recursion\n",
    "Documenting functions using docstrings"
   ]
  },
  {
   "cell_type": "code",
   "execution_count": 2,
   "id": "55e15528",
   "metadata": {},
   "outputs": [
    {
     "name": "stdout",
     "output_type": "stream",
     "text": [
      "Double of 5: 10\n",
      "Factorial of 5: 120\n"
     ]
    }
   ],
   "source": [
    "# Function with default argument\n",
    "def power(base, exponent=2):\n",
    "    return base ** exponent\n",
    "\n",
    "result1 = power(2)  # Uses default exponent (2)\n",
    "result2 = power(2, 3)  # Uses provided exponent (3)\n",
    "\n",
    "# Lambda function for simple operations\n",
    "double = lambda x: x * 2\n",
    "print(\"Double of 5:\", double(5))\n",
    "\n",
    "# Recursive function to calculate factorial\n",
    "def factorial(n):\n",
    "    if n == 1:\n",
    "        return 1\n",
    "    else:\n",
    "        return n * factorial(n - 1)\n",
    "# 5*4*3*2*1\n",
    "fact = factorial(5)\n",
    "print(\"Factorial of 5:\", fact)\n"
   ]
  },
  {
   "cell_type": "code",
   "execution_count": 3,
   "id": "bffb0f07",
   "metadata": {},
   "outputs": [
    {
     "name": "stdout",
     "output_type": "stream",
     "text": [
      "Factorial of 5: 1\n"
     ]
    }
   ],
   "source": [
    "# Recursive function to calculate factorial\n",
    "def factorial(n):\n",
    "    if n == 1:\n",
    "        return 1\n",
    "    else:\n",
    "        return n * factorial(n - 1)\n",
    "# 5*4*3*2*1\n",
    "fact = factorial(1)\n",
    "print(\"Factorial of 5:\", fact)\n"
   ]
  },
  {
   "cell_type": "code",
   "execution_count": null,
   "id": "4ed7defc",
   "metadata": {},
   "outputs": [],
   "source": [
    "# Lambda function for simple operations\n",
    "double = lambda x: x * 2\n",
    "print(\"Double of 5:\", double(5))"
   ]
  },
  {
   "cell_type": "code",
   "execution_count": 38,
   "id": "e02d4857",
   "metadata": {},
   "outputs": [
    {
     "name": "stdout",
     "output_type": "stream",
     "text": [
      "18\n"
     ]
    }
   ],
   "source": [
    "#defining the function\n",
    "triple = lambda x:x * 3\n",
    "\n",
    "#calling the function\n",
    "print(triple(6))"
   ]
  },
  {
   "cell_type": "code",
   "execution_count": 39,
   "id": "45d16060",
   "metadata": {},
   "outputs": [
    {
     "name": "stdout",
     "output_type": "stream",
     "text": [
      "216\n"
     ]
    }
   ],
   "source": [
    "#defining the function\n",
    "expo = lambda x:x ** 3\n",
    "\n",
    "#calling the function\n",
    "print(expo(6))"
   ]
  },
  {
   "cell_type": "code",
   "execution_count": null,
   "id": "bfa38ea0",
   "metadata": {},
   "outputs": [],
   "source": [
    "#Students' activities\n",
    "#1. Practice Shift Right\n",
    "#2. Look up other system defined functions with examples\n",
    "#3. Continue Python exercises, focusing on loops and functions."
   ]
  }
 ],
 "metadata": {
  "kernelspec": {
   "display_name": "Python 3 (ipykernel)",
   "language": "python",
   "name": "python3"
  },
  "language_info": {
   "codemirror_mode": {
    "name": "ipython",
    "version": 3
   },
   "file_extension": ".py",
   "mimetype": "text/x-python",
   "name": "python",
   "nbconvert_exporter": "python",
   "pygments_lexer": "ipython3",
   "version": "3.10.9"
  }
 },
 "nbformat": 4,
 "nbformat_minor": 5
}
