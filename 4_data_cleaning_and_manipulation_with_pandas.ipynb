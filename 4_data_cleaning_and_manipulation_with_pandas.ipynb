{
 "cells": [
  {
   "cell_type": "code",
   "execution_count": 7,
   "id": "913837e2",
   "metadata": {},
   "outputs": [],
   "source": [
    "#import all necesary libraries\n",
    "import pandas as pd\n",
    "import matplotlib.pyplot as plt"
   ]
  },
  {
   "cell_type": "code",
   "execution_count": 3,
   "id": "ec9843bf",
   "metadata": {
    "scrolled": true
   },
   "outputs": [
    {
     "data": {
      "text/html": [
       "<div>\n",
       "<style scoped>\n",
       "    .dataframe tbody tr th:only-of-type {\n",
       "        vertical-align: middle;\n",
       "    }\n",
       "\n",
       "    .dataframe tbody tr th {\n",
       "        vertical-align: top;\n",
       "    }\n",
       "\n",
       "    .dataframe thead th {\n",
       "        text-align: right;\n",
       "    }\n",
       "</style>\n",
       "<table border=\"1\" class=\"dataframe\">\n",
       "  <thead>\n",
       "    <tr style=\"text-align: right;\">\n",
       "      <th></th>\n",
       "      <th>sex</th>\n",
       "      <th>age</th>\n",
       "      <th>sibsp</th>\n",
       "      <th>parch</th>\n",
       "      <th>fare</th>\n",
       "      <th>embarked</th>\n",
       "      <th>class</th>\n",
       "      <th>who</th>\n",
       "      <th>alone</th>\n",
       "      <th>survived</th>\n",
       "    </tr>\n",
       "  </thead>\n",
       "  <tbody>\n",
       "    <tr>\n",
       "      <th>0</th>\n",
       "      <td>male</td>\n",
       "      <td>22.0</td>\n",
       "      <td>1</td>\n",
       "      <td>0</td>\n",
       "      <td>7.2500</td>\n",
       "      <td>S</td>\n",
       "      <td>Third</td>\n",
       "      <td>man</td>\n",
       "      <td>False</td>\n",
       "      <td>0</td>\n",
       "    </tr>\n",
       "    <tr>\n",
       "      <th>1</th>\n",
       "      <td>female</td>\n",
       "      <td>38.0</td>\n",
       "      <td>1</td>\n",
       "      <td>0</td>\n",
       "      <td>71.2833</td>\n",
       "      <td>C</td>\n",
       "      <td>First</td>\n",
       "      <td>woman</td>\n",
       "      <td>False</td>\n",
       "      <td>1</td>\n",
       "    </tr>\n",
       "    <tr>\n",
       "      <th>2</th>\n",
       "      <td>female</td>\n",
       "      <td>26.0</td>\n",
       "      <td>0</td>\n",
       "      <td>0</td>\n",
       "      <td>7.9250</td>\n",
       "      <td>S</td>\n",
       "      <td>Third</td>\n",
       "      <td>woman</td>\n",
       "      <td>True</td>\n",
       "      <td>1</td>\n",
       "    </tr>\n",
       "    <tr>\n",
       "      <th>3</th>\n",
       "      <td>female</td>\n",
       "      <td>35.0</td>\n",
       "      <td>1</td>\n",
       "      <td>0</td>\n",
       "      <td>53.1000</td>\n",
       "      <td>S</td>\n",
       "      <td>First</td>\n",
       "      <td>woman</td>\n",
       "      <td>False</td>\n",
       "      <td>1</td>\n",
       "    </tr>\n",
       "    <tr>\n",
       "      <th>4</th>\n",
       "      <td>male</td>\n",
       "      <td>35.0</td>\n",
       "      <td>0</td>\n",
       "      <td>0</td>\n",
       "      <td>8.0500</td>\n",
       "      <td>S</td>\n",
       "      <td>Third</td>\n",
       "      <td>man</td>\n",
       "      <td>True</td>\n",
       "      <td>0</td>\n",
       "    </tr>\n",
       "  </tbody>\n",
       "</table>\n",
       "</div>"
      ],
      "text/plain": [
       "      sex   age  sibsp  parch     fare embarked  class    who  alone  survived\n",
       "0    male  22.0      1      0   7.2500        S  Third    man  False         0\n",
       "1  female  38.0      1      0  71.2833        C  First  woman  False         1\n",
       "2  female  26.0      0      0   7.9250        S  Third  woman   True         1\n",
       "3  female  35.0      1      0  53.1000        S  First  woman  False         1\n",
       "4    male  35.0      0      0   8.0500        S  Third    man   True         0"
      ]
     },
     "execution_count": 3,
     "metadata": {},
     "output_type": "execute_result"
    }
   ],
   "source": [
    "# Reading a CSV file\n",
    "data = pd.read_csv('Titanic.csv')\n",
    "\n",
    "#This will keep the original dataset by creating new copy of it\n",
    "df = data.copy()\n",
    "\n",
    "# Displaying the first few rows\n",
    "df.head()\n"
   ]
  },
  {
   "cell_type": "code",
   "execution_count": 9,
   "id": "9491edb3",
   "metadata": {},
   "outputs": [
    {
     "data": {
      "text/html": [
       "<div>\n",
       "<style scoped>\n",
       "    .dataframe tbody tr th:only-of-type {\n",
       "        vertical-align: middle;\n",
       "    }\n",
       "\n",
       "    .dataframe tbody tr th {\n",
       "        vertical-align: top;\n",
       "    }\n",
       "\n",
       "    .dataframe thead th {\n",
       "        text-align: right;\n",
       "    }\n",
       "</style>\n",
       "<table border=\"1\" class=\"dataframe\">\n",
       "  <thead>\n",
       "    <tr style=\"text-align: right;\">\n",
       "      <th></th>\n",
       "      <th>sex</th>\n",
       "      <th>age</th>\n",
       "      <th>sibsp</th>\n",
       "      <th>parch</th>\n",
       "      <th>fare</th>\n",
       "      <th>embarked</th>\n",
       "      <th>class</th>\n",
       "      <th>who</th>\n",
       "      <th>alone</th>\n",
       "      <th>survived</th>\n",
       "    </tr>\n",
       "  </thead>\n",
       "  <tbody>\n",
       "    <tr>\n",
       "      <th>881</th>\n",
       "      <td>male</td>\n",
       "      <td>33.0</td>\n",
       "      <td>0</td>\n",
       "      <td>0</td>\n",
       "      <td>7.8958</td>\n",
       "      <td>S</td>\n",
       "      <td>Third</td>\n",
       "      <td>man</td>\n",
       "      <td>True</td>\n",
       "      <td>0</td>\n",
       "    </tr>\n",
       "    <tr>\n",
       "      <th>882</th>\n",
       "      <td>female</td>\n",
       "      <td>22.0</td>\n",
       "      <td>0</td>\n",
       "      <td>0</td>\n",
       "      <td>10.5167</td>\n",
       "      <td>S</td>\n",
       "      <td>Third</td>\n",
       "      <td>woman</td>\n",
       "      <td>True</td>\n",
       "      <td>0</td>\n",
       "    </tr>\n",
       "    <tr>\n",
       "      <th>883</th>\n",
       "      <td>male</td>\n",
       "      <td>28.0</td>\n",
       "      <td>0</td>\n",
       "      <td>0</td>\n",
       "      <td>10.5000</td>\n",
       "      <td>S</td>\n",
       "      <td>Second</td>\n",
       "      <td>man</td>\n",
       "      <td>True</td>\n",
       "      <td>0</td>\n",
       "    </tr>\n",
       "    <tr>\n",
       "      <th>884</th>\n",
       "      <td>male</td>\n",
       "      <td>25.0</td>\n",
       "      <td>0</td>\n",
       "      <td>0</td>\n",
       "      <td>7.0500</td>\n",
       "      <td>S</td>\n",
       "      <td>Third</td>\n",
       "      <td>man</td>\n",
       "      <td>True</td>\n",
       "      <td>0</td>\n",
       "    </tr>\n",
       "    <tr>\n",
       "      <th>885</th>\n",
       "      <td>female</td>\n",
       "      <td>39.0</td>\n",
       "      <td>0</td>\n",
       "      <td>5</td>\n",
       "      <td>29.1250</td>\n",
       "      <td>Q</td>\n",
       "      <td>Third</td>\n",
       "      <td>woman</td>\n",
       "      <td>False</td>\n",
       "      <td>0</td>\n",
       "    </tr>\n",
       "    <tr>\n",
       "      <th>886</th>\n",
       "      <td>male</td>\n",
       "      <td>27.0</td>\n",
       "      <td>0</td>\n",
       "      <td>0</td>\n",
       "      <td>13.0000</td>\n",
       "      <td>S</td>\n",
       "      <td>Second</td>\n",
       "      <td>man</td>\n",
       "      <td>True</td>\n",
       "      <td>0</td>\n",
       "    </tr>\n",
       "    <tr>\n",
       "      <th>887</th>\n",
       "      <td>female</td>\n",
       "      <td>19.0</td>\n",
       "      <td>0</td>\n",
       "      <td>0</td>\n",
       "      <td>30.0000</td>\n",
       "      <td>S</td>\n",
       "      <td>First</td>\n",
       "      <td>woman</td>\n",
       "      <td>True</td>\n",
       "      <td>1</td>\n",
       "    </tr>\n",
       "    <tr>\n",
       "      <th>888</th>\n",
       "      <td>female</td>\n",
       "      <td>NaN</td>\n",
       "      <td>1</td>\n",
       "      <td>2</td>\n",
       "      <td>23.4500</td>\n",
       "      <td>S</td>\n",
       "      <td>Third</td>\n",
       "      <td>woman</td>\n",
       "      <td>False</td>\n",
       "      <td>0</td>\n",
       "    </tr>\n",
       "    <tr>\n",
       "      <th>889</th>\n",
       "      <td>male</td>\n",
       "      <td>26.0</td>\n",
       "      <td>0</td>\n",
       "      <td>0</td>\n",
       "      <td>30.0000</td>\n",
       "      <td>C</td>\n",
       "      <td>First</td>\n",
       "      <td>man</td>\n",
       "      <td>True</td>\n",
       "      <td>1</td>\n",
       "    </tr>\n",
       "    <tr>\n",
       "      <th>890</th>\n",
       "      <td>male</td>\n",
       "      <td>32.0</td>\n",
       "      <td>0</td>\n",
       "      <td>0</td>\n",
       "      <td>7.7500</td>\n",
       "      <td>Q</td>\n",
       "      <td>Third</td>\n",
       "      <td>man</td>\n",
       "      <td>True</td>\n",
       "      <td>0</td>\n",
       "    </tr>\n",
       "  </tbody>\n",
       "</table>\n",
       "</div>"
      ],
      "text/plain": [
       "        sex   age  sibsp  parch     fare embarked   class    who  alone  \\\n",
       "881    male  33.0      0      0   7.8958        S   Third    man   True   \n",
       "882  female  22.0      0      0  10.5167        S   Third  woman   True   \n",
       "883    male  28.0      0      0  10.5000        S  Second    man   True   \n",
       "884    male  25.0      0      0   7.0500        S   Third    man   True   \n",
       "885  female  39.0      0      5  29.1250        Q   Third  woman  False   \n",
       "886    male  27.0      0      0  13.0000        S  Second    man   True   \n",
       "887  female  19.0      0      0  30.0000        S   First  woman   True   \n",
       "888  female   NaN      1      2  23.4500        S   Third  woman  False   \n",
       "889    male  26.0      0      0  30.0000        C   First    man   True   \n",
       "890    male  32.0      0      0   7.7500        Q   Third    man   True   \n",
       "\n",
       "     survived  \n",
       "881         0  \n",
       "882         0  \n",
       "883         0  \n",
       "884         0  \n",
       "885         0  \n",
       "886         0  \n",
       "887         1  \n",
       "888         0  \n",
       "889         1  \n",
       "890         0  "
      ]
     },
     "execution_count": 9,
     "metadata": {},
     "output_type": "execute_result"
    }
   ],
   "source": [
    "data = pd.read_csv('Titanic.csv')\n",
    "df = data.copy()\n",
    "df.tail(10)"
   ]
  },
  {
   "cell_type": "code",
   "execution_count": 3,
   "id": "fa567ad4",
   "metadata": {},
   "outputs": [
    {
     "name": "stdout",
     "output_type": "stream",
     "text": [
      "<class 'pandas.core.frame.DataFrame'>\n",
      "RangeIndex: 891 entries, 0 to 890\n",
      "Data columns (total 10 columns):\n",
      " #   Column    Non-Null Count  Dtype  \n",
      "---  ------    --------------  -----  \n",
      " 0   sex       891 non-null    object \n",
      " 1   age       714 non-null    float64\n",
      " 2   sibsp     891 non-null    int64  \n",
      " 3   parch     891 non-null    int64  \n",
      " 4   fare      891 non-null    float64\n",
      " 5   embarked  889 non-null    object \n",
      " 6   class     891 non-null    object \n",
      " 7   who       891 non-null    object \n",
      " 8   alone     891 non-null    bool   \n",
      " 9   survived  891 non-null    int64  \n",
      "dtypes: bool(1), float64(2), int64(3), object(4)\n",
      "memory usage: 63.6+ KB\n",
      "None\n",
      "              age       sibsp       parch        fare    survived\n",
      "count  714.000000  891.000000  891.000000  891.000000  891.000000\n",
      "mean    29.699118    0.523008    0.381594   32.204208    0.383838\n",
      "std     14.526497    1.102743    0.806057   49.693429    0.486592\n",
      "min      0.420000    0.000000    0.000000    0.000000    0.000000\n",
      "25%     20.125000    0.000000    0.000000    7.910400    0.000000\n",
      "50%     28.000000    0.000000    0.000000   14.454200    0.000000\n",
      "75%     38.000000    1.000000    0.000000   31.000000    1.000000\n",
      "max     80.000000    8.000000    6.000000  512.329200    1.000000\n"
     ]
    }
   ],
   "source": [
    "# Checking data types and summary statistics\n",
    "print(df.info())\n",
    "print(df.describe())"
   ]
  },
  {
   "cell_type": "code",
   "execution_count": 5,
   "id": "e139a17c",
   "metadata": {},
   "outputs": [
    {
     "name": "stdout",
     "output_type": "stream",
     "text": [
      "<class 'pandas.core.frame.DataFrame'>\n",
      "RangeIndex: 891 entries, 0 to 890\n",
      "Data columns (total 10 columns):\n",
      " #   Column    Non-Null Count  Dtype  \n",
      "---  ------    --------------  -----  \n",
      " 0   sex       891 non-null    object \n",
      " 1   age       714 non-null    float64\n",
      " 2   sibsp     891 non-null    int64  \n",
      " 3   parch     891 non-null    int64  \n",
      " 4   fare      891 non-null    float64\n",
      " 5   embarked  889 non-null    object \n",
      " 6   class     891 non-null    object \n",
      " 7   who       891 non-null    object \n",
      " 8   alone     891 non-null    bool   \n",
      " 9   survived  891 non-null    int64  \n",
      "dtypes: bool(1), float64(2), int64(3), object(4)\n",
      "memory usage: 63.6+ KB\n"
     ]
    }
   ],
   "source": [
    "df.info()"
   ]
  },
  {
   "cell_type": "code",
   "execution_count": 6,
   "id": "706a98df",
   "metadata": {},
   "outputs": [
    {
     "data": {
      "text/html": [
       "<div>\n",
       "<style scoped>\n",
       "    .dataframe tbody tr th:only-of-type {\n",
       "        vertical-align: middle;\n",
       "    }\n",
       "\n",
       "    .dataframe tbody tr th {\n",
       "        vertical-align: top;\n",
       "    }\n",
       "\n",
       "    .dataframe thead th {\n",
       "        text-align: right;\n",
       "    }\n",
       "</style>\n",
       "<table border=\"1\" class=\"dataframe\">\n",
       "  <thead>\n",
       "    <tr style=\"text-align: right;\">\n",
       "      <th></th>\n",
       "      <th>age</th>\n",
       "      <th>sibsp</th>\n",
       "      <th>parch</th>\n",
       "      <th>fare</th>\n",
       "      <th>survived</th>\n",
       "    </tr>\n",
       "  </thead>\n",
       "  <tbody>\n",
       "    <tr>\n",
       "      <th>count</th>\n",
       "      <td>714.000000</td>\n",
       "      <td>891.000000</td>\n",
       "      <td>891.000000</td>\n",
       "      <td>891.000000</td>\n",
       "      <td>891.000000</td>\n",
       "    </tr>\n",
       "    <tr>\n",
       "      <th>mean</th>\n",
       "      <td>29.699118</td>\n",
       "      <td>0.523008</td>\n",
       "      <td>0.381594</td>\n",
       "      <td>32.204208</td>\n",
       "      <td>0.383838</td>\n",
       "    </tr>\n",
       "    <tr>\n",
       "      <th>std</th>\n",
       "      <td>14.526497</td>\n",
       "      <td>1.102743</td>\n",
       "      <td>0.806057</td>\n",
       "      <td>49.693429</td>\n",
       "      <td>0.486592</td>\n",
       "    </tr>\n",
       "    <tr>\n",
       "      <th>min</th>\n",
       "      <td>0.420000</td>\n",
       "      <td>0.000000</td>\n",
       "      <td>0.000000</td>\n",
       "      <td>0.000000</td>\n",
       "      <td>0.000000</td>\n",
       "    </tr>\n",
       "    <tr>\n",
       "      <th>25%</th>\n",
       "      <td>20.125000</td>\n",
       "      <td>0.000000</td>\n",
       "      <td>0.000000</td>\n",
       "      <td>7.910400</td>\n",
       "      <td>0.000000</td>\n",
       "    </tr>\n",
       "    <tr>\n",
       "      <th>50%</th>\n",
       "      <td>28.000000</td>\n",
       "      <td>0.000000</td>\n",
       "      <td>0.000000</td>\n",
       "      <td>14.454200</td>\n",
       "      <td>0.000000</td>\n",
       "    </tr>\n",
       "    <tr>\n",
       "      <th>75%</th>\n",
       "      <td>38.000000</td>\n",
       "      <td>1.000000</td>\n",
       "      <td>0.000000</td>\n",
       "      <td>31.000000</td>\n",
       "      <td>1.000000</td>\n",
       "    </tr>\n",
       "    <tr>\n",
       "      <th>max</th>\n",
       "      <td>80.000000</td>\n",
       "      <td>8.000000</td>\n",
       "      <td>6.000000</td>\n",
       "      <td>512.329200</td>\n",
       "      <td>1.000000</td>\n",
       "    </tr>\n",
       "  </tbody>\n",
       "</table>\n",
       "</div>"
      ],
      "text/plain": [
       "              age       sibsp       parch        fare    survived\n",
       "count  714.000000  891.000000  891.000000  891.000000  891.000000\n",
       "mean    29.699118    0.523008    0.381594   32.204208    0.383838\n",
       "std     14.526497    1.102743    0.806057   49.693429    0.486592\n",
       "min      0.420000    0.000000    0.000000    0.000000    0.000000\n",
       "25%     20.125000    0.000000    0.000000    7.910400    0.000000\n",
       "50%     28.000000    0.000000    0.000000   14.454200    0.000000\n",
       "75%     38.000000    1.000000    0.000000   31.000000    1.000000\n",
       "max     80.000000    8.000000    6.000000  512.329200    1.000000"
      ]
     },
     "execution_count": 6,
     "metadata": {},
     "output_type": "execute_result"
    }
   ],
   "source": [
    "df.describe()"
   ]
  },
  {
   "cell_type": "markdown",
   "id": "af9cc153",
   "metadata": {},
   "source": [
    ">Identifying missing values.\n",
    ">\n",
    ">Options for handling missing data (removing, filling)"
   ]
  },
  {
   "cell_type": "code",
   "execution_count": 4,
   "id": "2a9b92ec",
   "metadata": {},
   "outputs": [],
   "source": [
    "# Handling missing data\n",
    "#df.dropna()  # Removing rows with missing values\n",
    "#df.loc[df['PassengerClass'] == '1st', 'Age'].fillna(df[df['embarked'] == '1st']['Age'].median(), inplace=True)\n",
    "# 'embarked' and 'age' have missing values. \n",
    "#We will fill the 'embarked' missing values with mode because there are only 3 missing values\n",
    "mode_embarked = df['embarked'].mode()[0]\n",
    "df['embarked'].fillna(mode_embarked, inplace=True)\n",
    "\n",
    "#df.fillna(0)  # Filling missing values with zeros\n"
   ]
  },
  {
   "cell_type": "code",
   "execution_count": 10,
   "id": "2196e25c",
   "metadata": {},
   "outputs": [],
   "source": [
    "mode_embarked = df['embarked'].mode()[0]\n",
    "df['embarked'].fillna(mode_embarked, inplace=True)"
   ]
  },
  {
   "cell_type": "code",
   "execution_count": 11,
   "id": "4841a5a6",
   "metadata": {},
   "outputs": [
    {
     "name": "stdout",
     "output_type": "stream",
     "text": [
      "<class 'pandas.core.frame.DataFrame'>\n",
      "RangeIndex: 891 entries, 0 to 890\n",
      "Data columns (total 10 columns):\n",
      " #   Column    Non-Null Count  Dtype  \n",
      "---  ------    --------------  -----  \n",
      " 0   sex       891 non-null    object \n",
      " 1   age       714 non-null    float64\n",
      " 2   sibsp     891 non-null    int64  \n",
      " 3   parch     891 non-null    int64  \n",
      " 4   fare      891 non-null    float64\n",
      " 5   embarked  891 non-null    object \n",
      " 6   class     891 non-null    object \n",
      " 7   who       891 non-null    object \n",
      " 8   alone     891 non-null    bool   \n",
      " 9   survived  891 non-null    int64  \n",
      "dtypes: bool(1), float64(2), int64(3), object(4)\n",
      "memory usage: 63.6+ KB\n"
     ]
    }
   ],
   "source": [
    "#verify if 'embarked' has been filled\n",
    "df.info()"
   ]
  },
  {
   "cell_type": "code",
   "execution_count": 6,
   "id": "ac1fd56d",
   "metadata": {},
   "outputs": [],
   "source": [
    "#We will fill the 'age' missing values with median\n",
    "# Calculate the median age\n",
    "median_age = df['age'].median()\n",
    "\n",
    "# Fill missing values in the 'age' column with the median age\n",
    "df['age'].fillna(median_age, inplace=True)\n"
   ]
  },
  {
   "cell_type": "code",
   "execution_count": 13,
   "id": "e3971191",
   "metadata": {},
   "outputs": [],
   "source": [
    "median_age = df['age'].median()\n",
    "df['age'].fillna(median_age, inplace=True)"
   ]
  },
  {
   "cell_type": "code",
   "execution_count": 14,
   "id": "ffa6a507",
   "metadata": {},
   "outputs": [
    {
     "name": "stdout",
     "output_type": "stream",
     "text": [
      "0\n"
     ]
    }
   ],
   "source": [
    "# Verify that missing values have been filled\n",
    "print(df['age'].isna().sum())  # Should print 0, indicating no missing values in the 'Age' column"
   ]
  },
  {
   "cell_type": "code",
   "execution_count": 15,
   "id": "c2593397",
   "metadata": {},
   "outputs": [
    {
     "name": "stdout",
     "output_type": "stream",
     "text": [
      "<class 'pandas.core.frame.DataFrame'>\n",
      "RangeIndex: 891 entries, 0 to 890\n",
      "Data columns (total 10 columns):\n",
      " #   Column    Non-Null Count  Dtype  \n",
      "---  ------    --------------  -----  \n",
      " 0   sex       891 non-null    object \n",
      " 1   age       891 non-null    float64\n",
      " 2   sibsp     891 non-null    int64  \n",
      " 3   parch     891 non-null    int64  \n",
      " 4   fare      891 non-null    float64\n",
      " 5   embarked  891 non-null    object \n",
      " 6   class     891 non-null    object \n",
      " 7   who       891 non-null    object \n",
      " 8   alone     891 non-null    bool   \n",
      " 9   survived  891 non-null    int64  \n",
      "dtypes: bool(1), float64(2), int64(3), object(4)\n",
      "memory usage: 63.6+ KB\n"
     ]
    }
   ],
   "source": [
    "df.info()"
   ]
  },
  {
   "cell_type": "code",
   "execution_count": null,
   "id": "91e1b9a3",
   "metadata": {},
   "outputs": [],
   "source": [
    "#Students' activity\n",
    "# Load Titanic.csv in your work enviroment\n",
    "# Copy the dataset using copy() function\n",
    "# perform info() and describe() functions on it"
   ]
  },
  {
   "cell_type": "markdown",
   "id": "aa07d5fd",
   "metadata": {},
   "source": [
    ">Data Cleaning and Transformation\n",
    ">\n",
    ">Removing duplicates.\n",
    ">\n",
    ">Changing data types.\n",
    ">\n",
    ">Renaming columns."
   ]
  },
  {
   "cell_type": "code",
   "execution_count": 16,
   "id": "c8473077",
   "metadata": {},
   "outputs": [],
   "source": [
    "# Check for duplicates\n",
    "duplicates = df.duplicated()"
   ]
  },
  {
   "cell_type": "code",
   "execution_count": 17,
   "id": "7ddfb5b6",
   "metadata": {
    "scrolled": true
   },
   "outputs": [
    {
     "name": "stdout",
     "output_type": "stream",
     "text": [
      "        sex   age  sibsp  parch     fare embarked   class    who  alone  \\\n",
      "47   female  28.0      0      0   7.7500        Q   Third  woman   True   \n",
      "55     male  28.0      0      0  35.5000        S   First    man   True   \n",
      "76     male  28.0      0      0   7.8958        S   Third    man   True   \n",
      "77     male  28.0      0      0   8.0500        S   Third    man   True   \n",
      "87     male  28.0      0      0   8.0500        S   Third    man   True   \n",
      "..      ...   ...    ...    ...      ...      ...     ...    ...    ...   \n",
      "870    male  26.0      0      0   7.8958        S   Third    man   True   \n",
      "877    male  19.0      0      0   7.8958        S   Third    man   True   \n",
      "878    male  28.0      0      0   7.8958        S   Third    man   True   \n",
      "884    male  25.0      0      0   7.0500        S   Third    man   True   \n",
      "886    male  27.0      0      0  13.0000        S  Second    man   True   \n",
      "\n",
      "     survived  \n",
      "47          1  \n",
      "55          1  \n",
      "76          0  \n",
      "77          0  \n",
      "87          0  \n",
      "..        ...  \n",
      "870         0  \n",
      "877         0  \n",
      "878         0  \n",
      "884         0  \n",
      "886         0  \n",
      "\n",
      "[116 rows x 10 columns]\n"
     ]
    }
   ],
   "source": [
    "# Show the rows that are duplicates\n",
    "duplicate_rows = df[duplicates]\n",
    "print(duplicate_rows)"
   ]
  },
  {
   "cell_type": "markdown",
   "id": "8cb975f5",
   "metadata": {},
   "source": [
    "#### Yes, there are duplicated rows but they are unique values. We will not need to drop them."
   ]
  },
  {
   "cell_type": "code",
   "execution_count": 10,
   "id": "606491b5",
   "metadata": {},
   "outputs": [],
   "source": [
    "# Removing duplicates\n",
    "#df.drop_duplicates()"
   ]
  },
  {
   "cell_type": "code",
   "execution_count": 18,
   "id": "8606c14c",
   "metadata": {},
   "outputs": [
    {
     "data": {
      "text/plain": [
       "sex          object\n",
       "age         float64\n",
       "sibsp         int64\n",
       "parch         int64\n",
       "fare        float64\n",
       "embarked     object\n",
       "class        object\n",
       "who          object\n",
       "alone          bool\n",
       "survived      int64\n",
       "dtype: object"
      ]
     },
     "execution_count": 18,
     "metadata": {},
     "output_type": "execute_result"
    }
   ],
   "source": [
    "#Check for data type of each column or field\n",
    "df.dtypes"
   ]
  },
  {
   "cell_type": "markdown",
   "id": "a26ff05f",
   "metadata": {},
   "source": [
    "#### We noticed 'age' column should not be float but integer. We will then change the data type of 'age' to integer"
   ]
  },
  {
   "cell_type": "code",
   "execution_count": 12,
   "id": "6ed910a2",
   "metadata": {},
   "outputs": [],
   "source": [
    "# Changing data type of 'age' from float to integer\n",
    "df['age'] = df['age'].astype(int)"
   ]
  },
  {
   "cell_type": "code",
   "execution_count": 20,
   "id": "1c286f85",
   "metadata": {},
   "outputs": [
    {
     "data": {
      "text/plain": [
       "dtype('int32')"
      ]
     },
     "execution_count": 20,
     "metadata": {},
     "output_type": "execute_result"
    }
   ],
   "source": [
    "#Confirm wether the 'age' data type has changed or not\n",
    "current_age_dtype = df['age'].dtype\n",
    "current_age_dtype"
   ]
  },
  {
   "cell_type": "code",
   "execution_count": 22,
   "id": "4c698b98",
   "metadata": {},
   "outputs": [
    {
     "name": "stdout",
     "output_type": "stream",
     "text": [
      "int32\n"
     ]
    }
   ],
   "source": [
    "print(df['age'].dtype)"
   ]
  },
  {
   "cell_type": "code",
   "execution_count": 21,
   "id": "5a18463c",
   "metadata": {},
   "outputs": [
    {
     "name": "stdout",
     "output_type": "stream",
     "text": [
      "<class 'pandas.core.frame.DataFrame'>\n",
      "RangeIndex: 891 entries, 0 to 890\n",
      "Data columns (total 10 columns):\n",
      " #   Column    Non-Null Count  Dtype  \n",
      "---  ------    --------------  -----  \n",
      " 0   sex       891 non-null    object \n",
      " 1   age       891 non-null    int32  \n",
      " 2   sibsp     891 non-null    int64  \n",
      " 3   parch     891 non-null    int64  \n",
      " 4   fare      891 non-null    float64\n",
      " 5   embarked  891 non-null    object \n",
      " 6   class     891 non-null    object \n",
      " 7   who       891 non-null    object \n",
      " 8   alone     891 non-null    bool   \n",
      " 9   survived  891 non-null    int64  \n",
      "dtypes: bool(1), float64(1), int32(1), int64(3), object(4)\n",
      "memory usage: 60.2+ KB\n"
     ]
    }
   ],
   "source": [
    "df.info()"
   ]
  },
  {
   "cell_type": "code",
   "execution_count": 25,
   "id": "1f67ef7f",
   "metadata": {},
   "outputs": [],
   "source": [
    "# Renaming columns in the titanic dataset\n",
    "df.rename(columns={'sex': 'Gender','age': 'Age','sibsp': 'Siblings',\n",
    "                   'parch': 'Parent_Children','fare': 'Fare',\n",
    "                   'embarked': 'Embarked','class': 'Class',\n",
    "                   'who': 'Who','alone': 'Alone',\n",
    "                   'survived': 'Survived'}, inplace=True)\n"
   ]
  },
  {
   "cell_type": "code",
   "execution_count": 26,
   "id": "68143c69",
   "metadata": {},
   "outputs": [
    {
     "data": {
      "text/html": [
       "<div>\n",
       "<style scoped>\n",
       "    .dataframe tbody tr th:only-of-type {\n",
       "        vertical-align: middle;\n",
       "    }\n",
       "\n",
       "    .dataframe tbody tr th {\n",
       "        vertical-align: top;\n",
       "    }\n",
       "\n",
       "    .dataframe thead th {\n",
       "        text-align: right;\n",
       "    }\n",
       "</style>\n",
       "<table border=\"1\" class=\"dataframe\">\n",
       "  <thead>\n",
       "    <tr style=\"text-align: right;\">\n",
       "      <th></th>\n",
       "      <th>Gender</th>\n",
       "      <th>Age</th>\n",
       "      <th>Siblings</th>\n",
       "      <th>Parent_Children</th>\n",
       "      <th>Fare</th>\n",
       "      <th>Embarked</th>\n",
       "      <th>Class</th>\n",
       "      <th>Who</th>\n",
       "      <th>Alone</th>\n",
       "      <th>Survived</th>\n",
       "    </tr>\n",
       "  </thead>\n",
       "  <tbody>\n",
       "    <tr>\n",
       "      <th>0</th>\n",
       "      <td>male</td>\n",
       "      <td>22</td>\n",
       "      <td>1</td>\n",
       "      <td>0</td>\n",
       "      <td>7.2500</td>\n",
       "      <td>S</td>\n",
       "      <td>Third</td>\n",
       "      <td>man</td>\n",
       "      <td>False</td>\n",
       "      <td>0</td>\n",
       "    </tr>\n",
       "    <tr>\n",
       "      <th>1</th>\n",
       "      <td>female</td>\n",
       "      <td>38</td>\n",
       "      <td>1</td>\n",
       "      <td>0</td>\n",
       "      <td>71.2833</td>\n",
       "      <td>C</td>\n",
       "      <td>First</td>\n",
       "      <td>woman</td>\n",
       "      <td>False</td>\n",
       "      <td>1</td>\n",
       "    </tr>\n",
       "    <tr>\n",
       "      <th>2</th>\n",
       "      <td>female</td>\n",
       "      <td>26</td>\n",
       "      <td>0</td>\n",
       "      <td>0</td>\n",
       "      <td>7.9250</td>\n",
       "      <td>S</td>\n",
       "      <td>Third</td>\n",
       "      <td>woman</td>\n",
       "      <td>True</td>\n",
       "      <td>1</td>\n",
       "    </tr>\n",
       "    <tr>\n",
       "      <th>3</th>\n",
       "      <td>female</td>\n",
       "      <td>35</td>\n",
       "      <td>1</td>\n",
       "      <td>0</td>\n",
       "      <td>53.1000</td>\n",
       "      <td>S</td>\n",
       "      <td>First</td>\n",
       "      <td>woman</td>\n",
       "      <td>False</td>\n",
       "      <td>1</td>\n",
       "    </tr>\n",
       "    <tr>\n",
       "      <th>4</th>\n",
       "      <td>male</td>\n",
       "      <td>35</td>\n",
       "      <td>0</td>\n",
       "      <td>0</td>\n",
       "      <td>8.0500</td>\n",
       "      <td>S</td>\n",
       "      <td>Third</td>\n",
       "      <td>man</td>\n",
       "      <td>True</td>\n",
       "      <td>0</td>\n",
       "    </tr>\n",
       "  </tbody>\n",
       "</table>\n",
       "</div>"
      ],
      "text/plain": [
       "   Gender  Age  Siblings  Parent_Children     Fare Embarked  Class    Who  \\\n",
       "0    male   22         1                0   7.2500        S  Third    man   \n",
       "1  female   38         1                0  71.2833        C  First  woman   \n",
       "2  female   26         0                0   7.9250        S  Third  woman   \n",
       "3  female   35         1                0  53.1000        S  First  woman   \n",
       "4    male   35         0                0   8.0500        S  Third    man   \n",
       "\n",
       "   Alone  Survived  \n",
       "0  False         0  \n",
       "1  False         1  \n",
       "2   True         1  \n",
       "3  False         1  \n",
       "4   True         0  "
      ]
     },
     "execution_count": 26,
     "metadata": {},
     "output_type": "execute_result"
    }
   ],
   "source": [
    "#Check renaminf of columns\n",
    "df.head()"
   ]
  },
  {
   "cell_type": "markdown",
   "id": "f42b858a",
   "metadata": {},
   "source": [
    ">Selecting columns and rows\n",
    ">\n",
    ">Using conditions for data filtering"
   ]
  },
  {
   "cell_type": "code",
   "execution_count": 18,
   "id": "c63ae09c",
   "metadata": {},
   "outputs": [
    {
     "data": {
      "text/plain": [
       "0      22\n",
       "1      38\n",
       "2      26\n",
       "3      35\n",
       "4      35\n",
       "       ..\n",
       "886    27\n",
       "887    19\n",
       "888    28\n",
       "889    26\n",
       "890    32\n",
       "Name: Age, Length: 891, dtype: int32"
      ]
     },
     "execution_count": 18,
     "metadata": {},
     "output_type": "execute_result"
    }
   ],
   "source": [
    "# Selecting columns\n",
    "age_column = df['Age']\n",
    "age_column"
   ]
  },
  {
   "cell_type": "code",
   "execution_count": 27,
   "id": "7bcc4e3b",
   "metadata": {},
   "outputs": [
    {
     "data": {
      "text/plain": [
       "324"
      ]
     },
     "execution_count": 27,
     "metadata": {},
     "output_type": "execute_result"
    }
   ],
   "source": [
    "# Filtering data for total number of children\n",
    "children_sum = df[df['Age'] <= 12]['Age'].sum()\n",
    "\n",
    "#df['Age'] <= 12 creates a Boolean mask, which is True for rows where the 'Age' is less than or equal to 12.\n",
    "#df[df['Age'] <= 12] filters the DataFrame to include only the rows where the condition is True.\n",
    "#['Age'] selects the 'Age' column from the filtered DataFrame.\n",
    "#.sum() calculates the sum of the 'Age' column for the selected rows and assigns it to the 'children' variable.\n",
    "\n",
    "children_sum"
   ]
  },
  {
   "cell_type": "code",
   "execution_count": 28,
   "id": "eeee5d23",
   "metadata": {},
   "outputs": [
    {
     "data": {
      "text/plain": [
       "1635"
      ]
     },
     "execution_count": 28,
     "metadata": {},
     "output_type": "execute_result"
    }
   ],
   "source": [
    "# Filtering data for total number of teenagers\n",
    "teenager_sum = df[(df['Age'] >= 13) & (df['Age'] <= 19)]['Age'].sum()\n",
    "teenager_sum"
   ]
  },
  {
   "cell_type": "code",
   "execution_count": 29,
   "id": "fd370452",
   "metadata": {},
   "outputs": [
    {
     "data": {
      "text/plain": [
       "24188"
      ]
     },
     "execution_count": 29,
     "metadata": {},
     "output_type": "execute_result"
    }
   ],
   "source": [
    "# Filtering data for total number of adult\n",
    "adult_sum = df[df['Age'] >= 20]['Age'].sum()\n",
    "adult_sum"
   ]
  },
  {
   "cell_type": "markdown",
   "id": "be2028cf",
   "metadata": {},
   "source": [
    ">Data Aggregation and Grouping \n",
    ">\n",
    ">Grouping data by columns\n",
    ">\n",
    ">Applying aggregation functions (sum, mean, count)\n"
   ]
  },
  {
   "cell_type": "code",
   "execution_count": 31,
   "id": "b24ec0cc",
   "metadata": {},
   "outputs": [],
   "source": [
    "# Grouping data by 'Age' column\n",
    "grouped_fare = df.groupby('Fare')"
   ]
  },
  {
   "cell_type": "code",
   "execution_count": 32,
   "id": "b04f850e",
   "metadata": {},
   "outputs": [
    {
     "data": {
      "text/plain": [
       "Fare\n",
       "0.0000        0.0000\n",
       "4.0125        4.0125\n",
       "5.0000        5.0000\n",
       "6.2375        6.2375\n",
       "6.4375        6.4375\n",
       "              ...   \n",
       "227.5250    227.5250\n",
       "247.5208    247.5208\n",
       "262.3750    262.3750\n",
       "263.0000    263.0000\n",
       "512.3292    512.3292\n",
       "Name: Fare, Length: 248, dtype: float64"
      ]
     },
     "execution_count": 32,
     "metadata": {},
     "output_type": "execute_result"
    }
   ],
   "source": [
    "# Aggregating data\n",
    "average_age = grouped_data['Fare'].mean()\n",
    "average_age"
   ]
  },
  {
   "cell_type": "code",
   "execution_count": 33,
   "id": "0d2a55cb",
   "metadata": {},
   "outputs": [
    {
     "data": {
      "text/plain": [
       "Fare\n",
       "0.0000      15\n",
       "4.0125       1\n",
       "5.0000       1\n",
       "6.2375       1\n",
       "6.4375       1\n",
       "            ..\n",
       "227.5250     4\n",
       "247.5208     2\n",
       "262.3750     2\n",
       "263.0000     4\n",
       "512.3292     3\n",
       "Name: Fare, Length: 248, dtype: int64"
      ]
     },
     "execution_count": 33,
     "metadata": {},
     "output_type": "execute_result"
    }
   ],
   "source": [
    "total_age_count = grouped_data['Fare'].count()\n",
    "total_age_count"
   ]
  },
  {
   "cell_type": "code",
   "execution_count": 34,
   "id": "dc8010b0",
   "metadata": {},
   "outputs": [
    {
     "data": {
      "image/png": "[encoded data removed]",
      "text/plain": [
       "<Figure size 400x300 with 1 Axes>"
      ]
     },
     "metadata": {},
     "output_type": "display_data"
    }
   ],
   "source": [
    "# Basic data visualization\n",
    "# Data\n",
    "categories = ['Children', 'Teenagers', 'Adults']\n",
    "totals = [children_sum, teenager_sum, adult_sum]\n",
    "\n",
    "# Create a bar chart\n",
    "plt.figure(figsize=(4, 3))\n",
    "#plt.bar(categories, totals, color=['blue', 'green', 'orange'])\n",
    "plt.bar(categories, totals)\n",
    "plt.title('Titanic Age Distribution')\n",
    "plt.xlabel('Age Group')\n",
    "plt.ylabel('Total Age Sum')\n",
    "plt.show();\n",
    "\n"
   ]
  },
  {
   "cell_type": "code",
   "execution_count": 47,
   "id": "30238df3",
   "metadata": {},
   "outputs": [],
   "source": [
    "#Students' activity\n",
    "# Write a code to calculate mean for the entire 'Fare' column and display it\n",
    "# Write a code to calculate median for the entire 'Fare' column and display it\n",
    "# Write a code to determine how many people survived titanic"
   ]
  }
 ],
 "metadata": {
  "kernelspec": {
   "display_name": "Python 3 (ipykernel)",
   "language": "python",
   "name": "python3"
  },
  "language_info": {
   "codemirror_mode": {
    "name": "ipython",
    "version": 3
   },
   "file_extension": ".py",
   "mimetype": "text/x-python",
   "name": "python",
   "nbconvert_exporter": "python",
   "pygments_lexer": "ipython3",
   "version": "3.10.9"
  }
 },
 "nbformat": 4,
 "nbformat_minor": 5
}
